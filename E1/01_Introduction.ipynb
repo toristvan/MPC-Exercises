{
 "cells": [
  {
   "cell_type": "markdown",
   "metadata": {
    "graffitiCellId": "id_b9d1hur"
   },
   "source": [
    "<table style=\"width:100%\"><tr>\n",
    "<td> \n",
    "    \n",
    "Technische Universität Berlin\\\n",
    "Electrical Engineering and Computer Science\\\n",
    "Internet of Things for Smart Buildings\\\n",
    "Prof. Dr. Sergio Lucia, Felix Fiedler, Benjamin Karg </td>\n",
    "<td>  <img src=\"logo_tu.png\" style=\"width: 20%;\" align=\"right\"/> </td>\n",
    "</tr>\n",
    "</table>\n",
    "\n",
    "***\n",
    "**MPC 20 - Exercise 01**\n",
    "***\n",
    "\n",
    "# <span class=\"graffiti-highlight graffiti-id_b9d1hur-id_pkci86f\"><i></i>Please Click here!</span>\n",
    "\n",
    "\n",
    "# Introduction to Python\n",
    "\n",
    "Welcome to Python! This first exercise is designed to give you some first experience with Python or to refresh your knowledge. After the introduction of some simple, but necessary, concepts you will soon be working on your main task for this week: Creating a function that performs a polynomial regression. \n",
    "Working towards this goal, you'll also refresh or learn some things about linear algebra and optimization.\n",
    "\n",
    "Within this IPython Notebook you will find some information and some tasks, usually accompanied by a block of code below with the annotation ```Write your code here!```. This should be self explanatory. Often there is more than one way of doing things and the tasks can be quite open. Feel free to do further investigations once you have finished the requirements.\n",
    "\n",
    "This course is in parts adapted from [python.swaroopch.com](https://python.swaroopch.com/). Feel free to use this source for further information."
   ]
  },
  {
   "cell_type": "markdown",
   "metadata": {
    "graffitiCellId": "id_zoe3hoi"
   },
   "source": [
    "### <span class=\"graffiti-highlight graffiti-id_zoe3hoi-id_i15wih5\"><i></i>Strings</span>"
   ]
  },
  {
   "cell_type": "markdown",
   "metadata": {
    "graffitiCellId": "id_rzvlxoi"
   },
   "source": [
    "Just so that we get it behind us, you'll also need to execute the follwing block. You can execute code by setting your curser inside the block and pressing **\"shift-Enter\"**. For Mac-Users: **\"control+Enter\"**. Alternative, you can press the run button in the tool bar."
   ]
  },
  {
   "cell_type": "code",
   "execution_count": null,
   "metadata": {
    "graffitiCellId": "id_1fffbz3",
    "scrolled": true
   },
   "outputs": [],
   "source": [
    "print('Hello world!')"
   ]
  },
  {
   "cell_type": "markdown",
   "metadata": {
    "graffitiCellId": "id_o4jw99z"
   },
   "source": [
    "While this is the most overused example in computer science it does show two useful things:\n",
    "- the ```print()```command, which we will use for debugging and outputs.\n",
    "- the string data type, which can be created by using the apostrophe symbol. For reasons unknown, it is possible to also create strings with the quotation mark. There is no difference in the created string.\n",
    "\n",
    "While we are at it, some more string operations:\n",
    "\n",
    "### <span class=\"graffiti-highlight graffiti-id_o4jw99z-id_akycrop\"><i></i>Task 01:</span>\n",
    "Try the following:\n",
    "- sum of strings ```'Hello' + 'World'```\n",
    "- product of strings ```10*'Hello'```\n",
    "- [Python \"format\" function](https://www.geeksforgeeks.org/python-format-function/)\n",
    "- Investigate the data type of your strings by writing ```type()```"
   ]
  },
  {
   "cell_type": "code",
   "execution_count": null,
   "metadata": {
    "graffitiCellId": "id_o35t3ib",
    "scrolled": true
   },
   "outputs": [],
   "source": [
    "# Write your code here."
   ]
  },
  {
   "cell_type": "markdown",
   "metadata": {
    "graffitiCellId": "id_nagoqt5"
   },
   "source": [
    "<span class=\"graffiti-highlight graffiti-id_nagoqt5-id_zhbyqv1\"><i></i><button>Hide Solution</button></span>"
   ]
  },
  {
   "cell_type": "code",
   "execution_count": 1,
   "metadata": {
    "graffitiCellId": "id_zhbyqv1"
   },
   "outputs": [
    {
     "name": "stdout",
     "output_type": "stream",
     "text": [
      "HelloWorld\n",
      "HelloHelloHelloHelloHelloHelloHelloHelloHelloHello\n",
      "I am 18 years old.\n",
      "<class 'str'>\n"
     ]
    }
   ],
   "source": [
    "print('Hello' + 'World')\n",
    "print(10*'Hello')\n",
    "print('I am {} years old.'.format(18))\n",
    "print(type('Hallo'))\n"
   ]
  },
  {
   "cell_type": "markdown",
   "metadata": {
    "graffitiCellId": "id_nnblvr1"
   },
   "source": [
    "### Operations"
   ]
  },
  {
   "cell_type": "markdown",
   "metadata": {
    "graffitiCellId": "id_1c7ftda"
   },
   "source": [
    "Most statements that you write will contain expressions. A example of an expression is ```3 + 3```. An expression can be broken down into operators and operands."
   ]
  },
  {
   "cell_type": "code",
   "execution_count": 3,
   "metadata": {
    "graffitiCellId": "id_zlb6tji",
    "scrolled": true
   },
   "outputs": [
    {
     "data": {
      "text/plain": [
       "6"
      ]
     },
     "execution_count": 3,
     "metadata": {},
     "output_type": "execute_result"
    }
   ],
   "source": [
    "3+3"
   ]
  },
  {
   "cell_type": "markdown",
   "metadata": {
    "graffitiCellId": "id_7on2xth"
   },
   "source": [
    "As you can see from the example above, a block of code returns the value of the last line without explicit printing. However, if you assign a statement to a variable there is no direct output."
   ]
  },
  {
   "cell_type": "code",
   "execution_count": 2,
   "metadata": {
    "graffitiCellId": "id_at5vqs0"
   },
   "outputs": [],
   "source": [
    "a = 3/2"
   ]
  },
  {
   "cell_type": "markdown",
   "metadata": {
    "graffitiCellId": "id_ei8zh08"
   },
   "source": [
    "To see the result, you need to use ```print``` explicitly."
   ]
  },
  {
   "cell_type": "code",
   "execution_count": 4,
   "metadata": {
    "graffitiCellId": "id_etxswb0",
    "scrolled": true
   },
   "outputs": [
    {
     "name": "stdout",
     "output_type": "stream",
     "text": [
      "1.5\n"
     ]
    }
   ],
   "source": [
    "print(a)"
   ]
  },
  {
   "cell_type": "markdown",
   "metadata": {
    "graffitiCellId": "id_e4y7hy2"
   },
   "source": [
    "Important operations are:\n",
    "- multiplication: ```a*b```\n",
    "- division: ```a/b```\n",
    "- Integer division: ```a//b```\n",
    "- power ```a**2```\n",
    "- modulus (remainder after division) ```a%b```\n",
    "- matrix multiplication: ```A@B``` (discussed later)\n",
    "\n",
    "### Task 02: \n",
    "Assign values to a and b and experiment with the operators. Print the outputs in a readable format (use string operations from above). Note that ```.format``` allows to define the format of printed numbers (e.g. the number of digits)."
   ]
  },
  {
   "cell_type": "code",
   "execution_count": null,
   "metadata": {
    "graffitiCellId": "id_pix0ydn",
    "scrolled": false
   },
   "outputs": [],
   "source": [
    "# Write your code here.\n",
    "a = \n",
    "b = \n",
    "print('a*b=')"
   ]
  },
  {
   "cell_type": "markdown",
   "metadata": {
    "graffitiCellId": "id_q0i55eg"
   },
   "source": [
    "<span class=\"graffiti-highlight graffiti-id_q0i55eg-id_1xpot09\"><i></i><button>Show Solution</button></span>"
   ]
  },
  {
   "cell_type": "markdown",
   "metadata": {
    "graffitiCellId": "id_2gb9cqa"
   },
   "source": [
    "It is also convenient to use the shortcut form which applies if you want to alter a variable. So instead of writing:\n",
    "```python\n",
    "a = 3\n",
    "a = a+3\n",
    "```\n",
    "We can use the short form:\n",
    "```python\n",
    "a = 3\n",
    "a += 3\n",
    "```\n"
   ]
  },
  {
   "cell_type": "markdown",
   "metadata": {
    "graffitiCellId": "id_ybnygg5"
   },
   "source": [
    "### Data types\n",
    "Besides the string type there are a number of data types that you should know of.\n",
    "- float (rational numbers)\n",
    "- integer (natural numbers)\n",
    "- boolean (True or False)\n",
    "- lists (discussed in data structures section)\n",
    "- dictionaries (discussed in data structures section)\n",
    "\n",
    "A float is comparable to a rational number and can be created like this:"
   ]
  },
  {
   "cell_type": "code",
   "execution_count": 5,
   "metadata": {
    "graffitiCellId": "id_mm4ygdu"
   },
   "outputs": [
    {
     "data": {
      "text/plain": [
       "float"
      ]
     },
     "execution_count": 5,
     "metadata": {},
     "output_type": "execute_result"
    }
   ],
   "source": [
    "type(1.34)"
   ]
  },
  {
   "cell_type": "markdown",
   "metadata": {
    "graffitiCellId": "id_x99naje"
   },
   "source": [
    "Other examples are ```1.5e4``` which is 15000 or $1.5\\cdot 10 ^{4}$.\n",
    "\n",
    "Python automatically choses apropriate data types for example:"
   ]
  },
  {
   "cell_type": "code",
   "execution_count": 6,
   "metadata": {
    "graffitiCellId": "id_ya3gb7f"
   },
   "outputs": [
    {
     "data": {
      "text/plain": [
       "int"
      ]
     },
     "execution_count": 6,
     "metadata": {},
     "output_type": "execute_result"
    }
   ],
   "source": [
    "type(1)"
   ]
  },
  {
   "cell_type": "markdown",
   "metadata": {
    "graffitiCellId": "id_l3408ja"
   },
   "source": [
    "This is an integer. Operations can also change the data type as we saw above with:"
   ]
  },
  {
   "cell_type": "code",
   "execution_count": 7,
   "metadata": {
    "graffitiCellId": "id_my1bfyi"
   },
   "outputs": [
    {
     "name": "stdout",
     "output_type": "stream",
     "text": [
      "1.5\n",
      "<class 'float'>\n"
     ]
    }
   ],
   "source": [
    "a = 3/2\n",
    "print(a)\n",
    "print(type(a))"
   ]
  },
  {
   "cell_type": "markdown",
   "metadata": {
    "graffitiCellId": "id_wuqpt5m"
   },
   "source": [
    "It should also now become clear, why the ```//``` operator is called integer division:"
   ]
  },
  {
   "cell_type": "code",
   "execution_count": 8,
   "metadata": {
    "graffitiCellId": "id_9wohlwd"
   },
   "outputs": [
    {
     "name": "stdout",
     "output_type": "stream",
     "text": [
      "1\n",
      "<class 'int'>\n"
     ]
    }
   ],
   "source": [
    "a = 3//2 # divide by two and round down to the nearest integer.\n",
    "print(a)\n",
    "print(type(a))"
   ]
  },
  {
   "cell_type": "markdown",
   "metadata": {
    "graffitiCellId": "id_1r0pnu3"
   },
   "source": [
    "You can also manually reassign the data type with:\n",
    "- ```float(1)```\n",
    "- ```int(3/2)```\n",
    "\n",
    "See the following example where we used regular devision, which returned ```3/2 = 1.5``` above, but now change the data type to ```int```:"
   ]
  },
  {
   "cell_type": "code",
   "execution_count": null,
   "metadata": {
    "graffitiCellId": "id_m0y7pnw"
   },
   "outputs": [],
   "source": [
    "a = int(3/2)\n",
    "print(a)\n",
    "print(type(a))"
   ]
  },
  {
   "cell_type": "markdown",
   "metadata": {
    "graffitiCellId": "id_acc70eu"
   },
   "source": [
    "While floats will be very important for us to store values of computations, we mostly use integers for indexing and counting, which we will discuss, together with lists and dictionaries, in the section **\"Data structures\"**"
   ]
  },
  {
   "cell_type": "markdown",
   "metadata": {
    "graffitiCellId": "id_i6hu6ma"
   },
   "source": [
    "### <span class=\"graffiti-highlight graffiti-id_i6hu6ma-id_uvcs6n7\"><i></i>Functions and Modules</span>\n",
    "Functions are reusable pieces of programs. They allow you to give a name to a block of statements, allowing you to run that block using the specified name anywhere in your program and any number of times. This is known as calling the function. We have already seen some built-in functions, such as ```type```, ```float``` and ```int```. Creating a function follows a very simple scheme:\n",
    "\n",
    "```python\n",
    "def function_name(argument_1, argument_2, ...):\n",
    "    # block belonging to the function\n",
    "    result_1 = ...\n",
    "    result_2 = ...\n",
    "    return result_1, result_2\n",
    "# End of function (this is an optional comment)\n",
    "```\n",
    "\n",
    "The important elements are the keyword ```def``` followed by the name of the function and its arguments in paranthesis and finished with a double dot. The arguments can be used to calculate new values and variables that are only accessible within the function. Also notice that Python simply uses indentation to assign a block of code to a function. There is no end statement or the like. The same is true for other Python structures like loops.\n",
    "Last but not least a function can (optional) return one or multiple variables. In the displayed case with two returns, we can call the function like this:\n",
    "\n",
    "```python\n",
    "res_1, res_2 = function_name(a_1, a_2)\n",
    "```\n",
    "\n",
    "As you can see, we are not required to stick to the names that were used within the function for arguments and results. "
   ]
  },
  {
   "cell_type": "code",
   "execution_count": null,
   "metadata": {
    "graffitiCellId": "id_r4tduy4"
   },
   "outputs": [],
   "source": [
    "def test_function(a,b):\n",
    "    c = a+b\n",
    "    return c"
   ]
  },
  {
   "cell_type": "markdown",
   "metadata": {
    "graffitiCellId": "id_yw5u9o8"
   },
   "source": [
    "### Task 03: \n",
    "Write your own function (Name it ```my_fun```) that takes as input your age and name and prints the string:\n",
    "\n",
    "```My name is [Name] and I am [XX] years old.```"
   ]
  },
  {
   "cell_type": "code",
   "execution_count": null,
   "metadata": {
    "graffitiCellId": "id_gnmps50",
    "scrolled": false
   },
   "outputs": [],
   "source": [
    "# Write your code here."
   ]
  },
  {
   "cell_type": "markdown",
   "metadata": {
    "graffitiCellId": "id_km6kizk"
   },
   "source": [
    "<span class=\"graffiti-highlight graffiti-id_km6kizk-id_t0hxq06\"><i></i><button>Show Solution</button></span>"
   ]
  },
  {
   "cell_type": "markdown",
   "metadata": {
    "graffitiCellId": "id_n205xgu"
   },
   "source": [
    "You can also call a function with keywords that refer to the inputs of the function. This can make your code more readable. Also it helps avoiding bugs, since in the case above the order of arguments determined their assignment to the different inputs. With keyword arguments the order doesn't matter anymore:"
   ]
  },
  {
   "cell_type": "code",
   "execution_count": null,
   "metadata": {
    "graffitiCellId": "id_je7aqlo"
   },
   "outputs": [],
   "source": [
    "my_fun(age=26, name='Felix')"
   ]
  },
  {
   "cell_type": "markdown",
   "metadata": {
    "graffitiCellId": "id_cygtk80"
   },
   "source": [
    "Lastly, you can also set default arguments for inputs of a function. Simply adjust the function declaration like this:\n",
    "```python\n",
    "def my_fun(name, age=21):\n",
    "    # ....\n",
    "```\n",
    "You could call this function with just one argument (the name) and it would set the age to 21 per default. "
   ]
  },
  {
   "cell_type": "markdown",
   "metadata": {
    "graffitiCellId": "id_80ans88"
   },
   "source": [
    "While functions allow you to reuse code within your file, you will soon face the need to reuse code from other files, either from yourself or from other people. The key is here to use the ```import``` statement.\n",
    "\n",
    "### <span class=\"graffiti-highlight graffiti-id_80ans88-id_6sqt2vp\"><i></i>Task 04</span>:\n",
    "To give you an idea how it works, you will create your own simple \"module\".\n",
    "- Create a new text file in the folder that you are working in (same folder where this notebook is saved).\n",
    "- Rename it to \"my_module.**py**\"\n",
    "- Copy the function ```my_fun``` to the file.\n",
    "- Save.\n",
    "\n",
    "Congratulations! You have done two things: First, you wrote Python code independent of Jupyter Notebook and second your created a simple module. Let's see if it works:"
   ]
  },
  {
   "cell_type": "code",
   "execution_count": 9,
   "metadata": {
    "graffitiCellId": "id_adv19zk",
    "scrolled": true
   },
   "outputs": [
    {
     "name": "stdout",
     "output_type": "stream",
     "text": [
      "My name is Name and I am 99 years old.\n"
     ]
    }
   ],
   "source": [
    "import my_module\n",
    "\n",
    "my_module.my_fun('Name',99)"
   ]
  },
  {
   "cell_type": "markdown",
   "metadata": {
    "graffitiCellId": "id_p19z1lk"
   },
   "source": [
    "This should print the same result as above. \n",
    "\n",
    "There are some other useful tricks when importing stuff from a module.\n",
    "A module can contain several functions and classes (more about that later). If you wish you can selectively import things with:\n",
    "\n",
    "```python\n",
    "from my_module import my_fun\n",
    "```"
   ]
  },
  {
   "cell_type": "code",
   "execution_count": null,
   "metadata": {
    "graffitiCellId": "id_djf5gfy"
   },
   "outputs": [],
   "source": [
    "from my_module import my_fun\n",
    "\n",
    "my_fun('Name',99)"
   ]
  },
  {
   "cell_type": "markdown",
   "metadata": {
    "graffitiCellId": "id_b9b3wzc"
   },
   "source": [
    "Furthermore, you can reassign the name of the module or of the imported functions and classes with:"
   ]
  },
  {
   "cell_type": "code",
   "execution_count": null,
   "metadata": {
    "graffitiCellId": "id_suv4t61",
    "scrolled": true
   },
   "outputs": [],
   "source": [
    "import my_module as mm\n",
    "mm.my_fun('Name',99)\n",
    "from my_module import my_fun as mf\n",
    "mf('Name', 99)"
   ]
  },
  {
   "cell_type": "markdown",
   "metadata": {
    "graffitiCellId": "id_szovm0w"
   },
   "source": [
    "This is common practice as it saves time typing and allows for shorter code."
   ]
  },
  {
   "cell_type": "markdown",
   "metadata": {
    "graffitiCellId": "id_ct6eoth"
   },
   "source": [
    "### Control Flow\n",
    "\n",
    "You might have noticed that so far we were executing our code in a straightforward way: From top to bottom, one line after the other. However, we will often face challenges that require us to switch between different cases or to repeat code segments a number of times. This kind of control flow is achieved with the ```if```, ```for``` and ```while``` statements in Python.\n",
    "\n",
    "#### If- statement\n",
    "Ever want to change your behavior depending on a condition? The if-statement is there for you! The syntax is very simple:\n",
    "```python\n",
    "if condition_1:\n",
    "    #do something!\n",
    "elif condition_2:\n",
    "    #do something else!\n",
    "elif condition_3:\n",
    "    #do something else!\n",
    "else:\n",
    "    # Do something if none of the conditions above where fulfilled.\n",
    "```\n",
    "A few notes:\n",
    "- Again we use indentation to assign blocks of codes to their respective if/elif/else statement.\n",
    "- dont forget the double dot.\n",
    "- conditions can be a boolean variable (True or False) or an expression that yields a boolean variable (e.g. ```3<6```).\n",
    "\n",
    "A few words about boolean variables. The most straightforward way to create them is:"
   ]
  },
  {
   "cell_type": "code",
   "execution_count": null,
   "metadata": {
    "graffitiCellId": "id_gu0kkir"
   },
   "outputs": [],
   "source": [
    "a = True\n",
    "b = False\n",
    "print(type(a))\n",
    "print(type(b))"
   ]
  },
  {
   "cell_type": "markdown",
   "metadata": {
    "graffitiCellId": "id_b7l8w4e"
   },
   "source": [
    "Alternatively, you can use boolean operators:\n",
    "- < (less than)\n",
    "- **>** (greater than)\n",
    "- <= / >= (less/greater than or equal)\n",
    "- == (equal to)\n",
    "- != (not equal to)\n",
    "- and\n",
    "- or\n",
    "- not\n",
    "The output of boolean operations are boolean variables, e.g.:"
   ]
  },
  {
   "cell_type": "code",
   "execution_count": null,
   "metadata": {
    "graffitiCellId": "id_ieak79h"
   },
   "outputs": [],
   "source": [
    "a = 3<6\n",
    "print(a)\n",
    "print(type(a))"
   ]
  },
  {
   "cell_type": "markdown",
   "metadata": {
    "graffitiCellId": "id_gtknxiz"
   },
   "source": [
    "Conveniently you can also use these operators on strings. Also dont forget you can use ```and``` and ```or``` for combined conditions."
   ]
  },
  {
   "cell_type": "code",
   "execution_count": null,
   "metadata": {
    "graffitiCellId": "id_gty43n5",
    "scrolled": true
   },
   "outputs": [],
   "source": [
    "name = 'Felix'\n",
    "print(name == 'Felix')\n",
    "print(name == 'Felix' and 3!=2)"
   ]
  },
  {
   "cell_type": "markdown",
   "metadata": {
    "graffitiCellId": "id_7kpeete"
   },
   "source": [
    "### Task 05: \n",
    "Create a function (name it ```drinking_age```) that takes as input a person's age and the country they are currently in.\n",
    "For the countries USA and Germany, the function should, depending on your age, print whether the person is allowed to drink beer (>=16 for germany), wine (>=16 for germany) or all alcoholic drinks (>=18 for germany). For all other countries, data is not available and the function should report that. The function should also return ```True``` if a person is allowed to drink at all and ```False``` if not.\n",
    "\n",
    "Optional extensions: \n",
    "- allow alternative names for countries (e.g. Deutschland)\n",
    "- Have a name as an additional input and print a sentence like ```\"[Name], (19) is not allowed to drink in [Country].\"```"
   ]
  },
  {
   "cell_type": "code",
   "execution_count": null,
   "metadata": {
    "graffitiCellId": "id_l0r7yhe"
   },
   "outputs": [],
   "source": [
    "def drinking_age(age, country):\n",
    "    # Write your code here:\n",
    "    return drinking_bool"
   ]
  },
  {
   "cell_type": "markdown",
   "metadata": {
    "graffitiCellId": "id_n3lxqhq"
   },
   "source": [
    "<span class=\"graffiti-highlight graffiti-id_n3lxqhq-id_ob5ncal\"><i></i><button>Show Solution</button></span>"
   ]
  },
  {
   "cell_type": "markdown",
   "metadata": {
    "graffitiCellId": "id_kn6t56e"
   },
   "source": [
    "Test your function below for several ages and countries."
   ]
  },
  {
   "cell_type": "code",
   "execution_count": null,
   "metadata": {
    "graffitiCellId": "id_6d90kp0",
    "scrolled": true
   },
   "outputs": [],
   "source": [
    "drinking_age(15, 'Germany')\n",
    "drinking_age(16, 'Germany')\n",
    "drinking_age(18, 'Germany')\n",
    "drinking_age(15, 'USA')\n",
    "drinking_age(16, 'USA')\n",
    "drinking_age(18, 'USA')\n",
    "drinking_age(21, 'USA')\n",
    "drinking_age(21, 'Westeros')"
   ]
  },
  {
   "cell_type": "markdown",
   "metadata": {
    "graffitiCellId": "id_l6tx9en"
   },
   "source": [
    "#### while - statement\n",
    "The while statement will repeat an operation until its condition is not fulfilled anymore. The syntax is:\n",
    "```python\n",
    "while condition:\n",
    "    # do something.\n",
    "```\n",
    "\n",
    "### <span class=\"graffiti-highlight graffiti-id_l6tx9en-id_b95aq6f\"><i></i>Task 06</span>:\n",
    "Initiate a variable ```age=0``` and create a while statement that will check if for the current age, a person is allowed to drink in the US. When the condition is not fulfilled add one to the age variable. Print a formated statement that at age XX you are not allowed to drink in the US."
   ]
  },
  {
   "cell_type": "code",
   "execution_count": null,
   "metadata": {
    "graffitiCellId": "id_v3c0506",
    "scrolled": true
   },
   "outputs": [],
   "source": [
    "age = 0 \n",
    "# Write your code here:"
   ]
  },
  {
   "cell_type": "markdown",
   "metadata": {
    "graffitiCellId": "id_3e78lwp"
   },
   "source": [
    "<span class=\"graffiti-highlight graffiti-id_3e78lwp-id_fm1y1fm\"><i></i><button>Show Solution</button></span>"
   ]
  },
  {
   "cell_type": "markdown",
   "metadata": {
    "graffitiCellId": "id_8v9nd0x"
   },
   "source": [
    "#### for - loop\n",
    "Another very important statement is ```for ... in ... ``` which iterates over a sequence. You will soon see that this a very powerful statement in Python because almost anything can be iterated over. We will start with the basics: Iterating over integers."
   ]
  },
  {
   "cell_type": "code",
   "execution_count": null,
   "metadata": {
    "graffitiCellId": "id_zg10bzz"
   },
   "outputs": [],
   "source": [
    "for i in range(5):\n",
    "    print(i)"
   ]
  },
  {
   "cell_type": "markdown",
   "metadata": {
    "graffitiCellId": "id_csavodu"
   },
   "source": [
    "You declare a variable, in this case ```i```, and iterate it over a sequence which is here created with the ```range()``` function. Note that the range starts at 0 and ends at 4. This may be confusing at first but also has a number of advantages. You will later see that indexing in Python is zero-based (the first element of a list is indexed with a zero), such that 0,1,2,3,4 will actually be the first 5 elements, when used for indexing.\n",
    "\n",
    "As mentioned above, we are not limited to iterating over integers. Try for example:"
   ]
  },
  {
   "cell_type": "code",
   "execution_count": null,
   "metadata": {
    "graffitiCellId": "id_zxr475f"
   },
   "outputs": [],
   "source": [
    "for char in 'Germany':\n",
    "    print(char)"
   ]
  },
  {
   "cell_type": "markdown",
   "metadata": {
    "graffitiCellId": "id_fbilooc"
   },
   "source": [
    "This feature will be very useful when working with structured data, such as lists.\n",
    "One last comment on both, for and while statements: You can always include an else statement in the end, that will be executed after the loop. Furthermore, there is the very usefull ```break``` command that can be added (usually after an if-statement) to break the loop. See for example:"
   ]
  },
  {
   "cell_type": "code",
   "execution_count": null,
   "metadata": {
    "graffitiCellId": "id_ryl2f8l"
   },
   "outputs": [],
   "source": [
    "for char in 'Germany':\n",
    "    print(char)\n",
    "    if char == 'm':\n",
    "        break"
   ]
  },
  {
   "cell_type": "markdown",
   "metadata": {
    "graffitiCellId": "id_y13538h"
   },
   "source": [
    "### Data structures\n",
    "You will often be faced with challenges where you need to structure data that is related. There are four ways to work with structured data in python and we will discuss ```list``` and ```dict``` in this tutorial. \n",
    "\n",
    "\n",
    "#### List\n",
    "Lists are structures that hold on ordered collection of items, enclosed in square brackets. These can be arbitrary data types and objects. See for example:"
   ]
  },
  {
   "cell_type": "code",
   "execution_count": null,
   "metadata": {
    "graffitiCellId": "id_xdxyach",
    "scrolled": true
   },
   "outputs": [],
   "source": [
    "my_list = [1,2,'test',3.56, 1e5, drinking_age, [3,4,5]]"
   ]
  },
  {
   "cell_type": "markdown",
   "metadata": {
    "graffitiCellId": "id_5jshauk"
   },
   "source": [
    "We have two integers, a string, two floats and even our previously defined function and another list are part of the list! To access any element we have to use indexing. As mentionned before, Python is zero based, such that:"
   ]
  },
  {
   "cell_type": "code",
   "execution_count": null,
   "metadata": {
    "graffitiCellId": "id_3o6qqfq",
    "scrolled": true
   },
   "outputs": [],
   "source": [
    "my_list[2]"
   ]
  },
  {
   "cell_type": "markdown",
   "metadata": {
    "graffitiCellId": "id_e1fwc6z"
   },
   "source": [
    "Reveals the third element. You can also use indexing to query multiple items of a list:"
   ]
  },
  {
   "cell_type": "code",
   "execution_count": null,
   "metadata": {
    "graffitiCellId": "id_gzmjwl5"
   },
   "outputs": [],
   "source": [
    "my_list[0:3]"
   ]
  },
  {
   "cell_type": "markdown",
   "metadata": {
    "graffitiCellId": "id_7lnr8pg"
   },
   "source": [
    "Lists are mutable. We can exchange items, truncate the list or append items. See for example:"
   ]
  },
  {
   "cell_type": "code",
   "execution_count": null,
   "metadata": {
    "graffitiCellId": "id_4cy511c"
   },
   "outputs": [],
   "source": [
    "my_list[2] = 99 # Set item at index 2 to 99\n",
    "my_list.append(99) # Append item to end of list\n",
    "my_list.pop(5) # Remove item at index 5 from list (zero-based!)\n",
    "my_list # Show list"
   ]
  },
  {
   "cell_type": "markdown",
   "metadata": {
    "graffitiCellId": "id_1dh0l7z"
   },
   "source": [
    "Sometimes you'll also want to know how many items you have in your list. Simply use:"
   ]
  },
  {
   "cell_type": "code",
   "execution_count": null,
   "metadata": {
    "graffitiCellId": "id_z0owj5i"
   },
   "outputs": [],
   "source": [
    "len(my_list)"
   ]
  },
  {
   "cell_type": "markdown",
   "metadata": {
    "graffitiCellId": "id_ke95th3"
   },
   "source": [
    "An important thing to know is that lists are classes in python which means that they can have class specific methods. Methods are called with the ```class.method()``` syntax. We used ```.append()``` and ```.pop()``` in this way. Basically, a method is just a function that takes as default input the class itself and does some operation on the class. We can see that, if we use ```.append()``` in the following way:"
   ]
  },
  {
   "cell_type": "code",
   "execution_count": null,
   "metadata": {
    "graffitiCellId": "id_ra7k2sy"
   },
   "outputs": [],
   "source": [
    "list.append(my_list, 'another item')\n",
    "my_list"
   ]
  },
  {
   "cell_type": "markdown",
   "metadata": {
    "graffitiCellId": "id_zvtja6s"
   },
   "source": [
    "Here we used the ```append()``` function that was imported as part of the general ```list``` module. Like many other standard modules you don't need to do these imports manually. "
   ]
  },
  {
   "cell_type": "markdown",
   "metadata": {
    "graffitiCellId": "id_hgwa90j"
   },
   "source": [
    "A very cool feature of Python is that we can iterate over lists.\n",
    "\n",
    "### Task 07:\n",
    "Create a simple list with:\n",
    "```python\n",
    "countries = ['Germany', 'USA']\n",
    "```\n",
    "And loop over this list, while evaluating our previously defined function ```drinking_age``` for an age of your choice."
   ]
  },
  {
   "cell_type": "code",
   "execution_count": null,
   "metadata": {
    "graffitiCellId": "id_ft3h588"
   },
   "outputs": [],
   "source": [
    "# Your code here."
   ]
  },
  {
   "cell_type": "markdown",
   "metadata": {
    "graffitiCellId": "id_t9cdbge"
   },
   "source": [
    "<span class=\"graffiti-highlight graffiti-id_t9cdbge-id_4g9bcel\"><i></i><button>Show Solution</button></span>"
   ]
  },
  {
   "cell_type": "markdown",
   "metadata": {
    "graffitiCellId": "id_udhof9c"
   },
   "source": [
    "### <span class=\"graffiti-highlight graffiti-id_udhof9c-id_zraf09v\"><i></i>List comprehensions</span>\n",
    "\n",
    "Another very cool and unique feature of Python is the list comprehension operation. Basically, this is a way to dynamically create a list using a for loop and optionally further conditions. Imagine for example you are given:"
   ]
  },
  {
   "cell_type": "code",
   "execution_count": null,
   "metadata": {
    "graffitiCellId": "id_t61tgro"
   },
   "outputs": [],
   "source": [
    "numbers = [1,2,3,4,5,6]"
   ]
  },
  {
   "cell_type": "markdown",
   "metadata": {
    "graffitiCellId": "id_nkq4fy1"
   },
   "source": [
    "And you want to create a list with the squared value of these numbers, if the number is even. A straighforward way would be to use this for-loop:"
   ]
  },
  {
   "cell_type": "code",
   "execution_count": null,
   "metadata": {
    "graffitiCellId": "id_jlqd3zd"
   },
   "outputs": [],
   "source": [
    "squares = [] # initiate empty list\n",
    "for number in numbers:\n",
    "    if number%2 == 0:\n",
    "        squares.append(number**2)\n",
    "    \n",
    "squares"
   ]
  },
  {
   "cell_type": "markdown",
   "metadata": {
    "graffitiCellId": "id_7ckge0z"
   },
   "source": [
    "Python, however, allows to use this convenient shortcut:"
   ]
  },
  {
   "cell_type": "code",
   "execution_count": null,
   "metadata": {
    "graffitiCellId": "id_lqkomx8"
   },
   "outputs": [],
   "source": [
    "squares = [number**2 for number in numbers if number%2==0]\n",
    "squares"
   ]
  },
  {
   "cell_type": "markdown",
   "metadata": {
    "graffitiCellId": "id_u44c8fg"
   },
   "source": [
    "### <span class=\"graffiti-highlight graffiti-id_u44c8fg-id_l86eo4c\"><i></i>Task 08</span>:\n",
    "Use list comprehension to create a list with items ```True``` and ```False```, depending on whether a person can drink alcohol at a certain age, for ages from 0 to 25. Remember the ```return``` of your function ```drinking_age```. "
   ]
  },
  {
   "cell_type": "code",
   "execution_count": null,
   "metadata": {
    "graffitiCellId": "id_d4ex1da",
    "scrolled": true
   },
   "outputs": [],
   "source": [
    "# Write your code here."
   ]
  },
  {
   "cell_type": "markdown",
   "metadata": {
    "graffitiCellId": "id_5eho4y2"
   },
   "source": [
    "<span class=\"graffiti-highlight graffiti-id_5eho4y2-id_eubya2j\"><i></i><button>Show Solution</button></span>"
   ]
  },
  {
   "cell_type": "markdown",
   "metadata": {
    "graffitiCellId": "id_qhn6gnd"
   },
   "source": [
    "#### Dictionaries\n",
    "Another useful data structure is the dictionary, which allows pairs of keys (strings) and values (any type).\n",
    "Creating a dictionary is as simple as:"
   ]
  },
  {
   "cell_type": "code",
   "execution_count": null,
   "metadata": {
    "graffitiCellId": "id_ukxc1o4"
   },
   "outputs": [],
   "source": [
    "my_dict = {'a':1, 'b': 2, 'c': 3.5, 'd': my_list}"
   ]
  },
  {
   "cell_type": "markdown",
   "metadata": {
    "graffitiCellId": "id_lfgyn6o"
   },
   "source": [
    "Dictionaries are not indexed with integers but with their key strings, e.g.:"
   ]
  },
  {
   "cell_type": "code",
   "execution_count": null,
   "metadata": {
    "graffitiCellId": "id_q2duqzp"
   },
   "outputs": [],
   "source": [
    "my_dict['a']"
   ]
  },
  {
   "cell_type": "markdown",
   "metadata": {
    "graffitiCellId": "id_t5qvesu"
   },
   "source": [
    "New items can added simply by assigning a value to a key that doesn't exist so far:"
   ]
  },
  {
   "cell_type": "code",
   "execution_count": null,
   "metadata": {
    "graffitiCellId": "id_18tty6q"
   },
   "outputs": [],
   "source": [
    "my_dict['e'] = 'new string'"
   ]
  },
  {
   "cell_type": "markdown",
   "metadata": {
    "graffitiCellId": "id_bev3971"
   },
   "source": [
    "Remove items with ```.pop()``` method:"
   ]
  },
  {
   "cell_type": "code",
   "execution_count": null,
   "metadata": {
    "graffitiCellId": "id_5yjygwc",
    "scrolled": true
   },
   "outputs": [],
   "source": [
    "my_dict.pop('d')\n",
    "print(my_dict)"
   ]
  },
  {
   "cell_type": "markdown",
   "metadata": {
    "graffitiCellId": "id_c28ybyo"
   },
   "source": [
    "It can also be useful to see the keys of a given dict. You can use the ```.keys()``` method like this:"
   ]
  },
  {
   "cell_type": "code",
   "execution_count": null,
   "metadata": {
    "graffitiCellId": "id_f4umids"
   },
   "outputs": [],
   "source": [
    "my_dict.keys()"
   ]
  },
  {
   "cell_type": "markdown",
   "metadata": {
    "graffitiCellId": "id_yviv3cw"
   },
   "source": [
    "Lastly, you can also use list comprehensions for dicts. We introduce the following lists:"
   ]
  },
  {
   "cell_type": "code",
   "execution_count": null,
   "metadata": {
    "graffitiCellId": "id_8olh7j4"
   },
   "outputs": [],
   "source": [
    "names = ['a', 'b', 'c', 'd'] # List with names (4 items)\n",
    "values = [1,2,3,4] # List with values (4 items)"
   ]
  },
  {
   "cell_type": "markdown",
   "metadata": {
    "graffitiCellId": "id_bbb6946"
   },
   "source": [
    "Finally, we want to obtain the following ``dict``:"
   ]
  },
  {
   "cell_type": "code",
   "execution_count": null,
   "metadata": {
    "graffitiCellId": "id_dfbx7b0"
   },
   "outputs": [],
   "source": [
    "another_dict = {'a': 1, 'b': 2, 'c': 3, 'd': 4}\n",
    "another_dict"
   ]
  },
  {
   "cell_type": "markdown",
   "metadata": {
    "graffitiCellId": "id_yosm4p2"
   },
   "source": [
    "### <span class=\"graffiti-highlight graffiti-id_yosm4p2-id_9wl4678\"><i></i>Task 09</span>:\n",
    "Create a dictionary with the keys stored in the list ``names`` shown above and the values from the ``values`` list. Use the \"list comprehension\" feature to create this dictionary in a single line of code.\n",
    "\n",
    "**Note:** You will need the python function [zip](https://www.programiz.com/python-programming/methods/built-in/zip) for this purpose. The function \"zips\" two inputs together and lets you iterate over both of them at the same time."
   ]
  },
  {
   "cell_type": "code",
   "execution_count": null,
   "metadata": {
    "graffitiCellId": "id_kru1ydh"
   },
   "outputs": [],
   "source": [
    "# Write your code here."
   ]
  },
  {
   "cell_type": "markdown",
   "metadata": {
    "graffitiCellId": "id_0boqkw2"
   },
   "source": [
    "<span class=\"graffiti-highlight graffiti-id_0boqkw2-id_f3gkwhd\"><i></i><button>Show Solution</button></span>"
   ]
  },
  {
   "cell_type": "markdown",
   "metadata": {
    "graffitiCellId": "id_vui2c47"
   },
   "source": [
    "## <span class=\"graffiti-highlight graffiti-id_vui2c47-id_p45tnla\"><i></i>Numpy and Matplotlib</span>\n",
    "Congratulations! You have completed the \"First Steps with Python\" part of this Notebook. \n",
    "While these fundamentals are necessary, they are not yet sufficient to make Python a valuable tool for our engineering tasks. Fortunately, Python has a very extensive user base and an abundance of open-source libraries for almost any problem.\n",
    "\n",
    "In our case many problems are solved after importing the following two libraries:"
   ]
  },
  {
   "cell_type": "code",
   "execution_count": 17,
   "metadata": {
    "graffitiCellId": "id_451eiye"
   },
   "outputs": [],
   "source": [
    "import numpy as np # We import numpy and rename it np (this is common practice)\n",
    "import matplotlib.pyplot as plt # We import a module pyplot from the module matplotlib and rename it plt (again common practice)"
   ]
  },
  {
   "cell_type": "markdown",
   "metadata": {
    "graffitiCellId": "id_h1fo3ds"
   },
   "source": [
    "Numpy is an essential and very powerful tool for linear algebra, while pyplot can be used for high quality visual representations of data. If you happen to know Matlab, these two tools will cover most of the important features that you are used to."
   ]
  },
  {
   "cell_type": "markdown",
   "metadata": {
    "graffitiCellId": "id_xsv5gse"
   },
   "source": [
    "### Arrays\n",
    "The fundamental object from numpy is the array. This can be compared to a vector (1d) or matrix (2d) or a general tensor (nd). The most straightforward way to create an array is this:"
   ]
  },
  {
   "cell_type": "code",
   "execution_count": null,
   "metadata": {
    "graffitiCellId": "id_d3k6zod"
   },
   "outputs": [],
   "source": [
    "a = np.array([1,2,3,4,5])\n",
    "a"
   ]
  },
  {
   "cell_type": "markdown",
   "metadata": {
    "graffitiCellId": "id_ztr59v6"
   },
   "source": [
    "While this looks identical to a list, it allows for some very convenient operations, such as:"
   ]
  },
  {
   "cell_type": "code",
   "execution_count": null,
   "metadata": {
    "graffitiCellId": "id_5bhbafc"
   },
   "outputs": [],
   "source": [
    "a**2"
   ]
  },
  {
   "cell_type": "markdown",
   "metadata": {
    "graffitiCellId": "id_699egiu"
   },
   "source": [
    "Remember that we had to iterate through the list (with list comprehension) to create the same result."
   ]
  },
  {
   "cell_type": "markdown",
   "metadata": {
    "graffitiCellId": "id_0d5461u"
   },
   "source": [
    "Other common ways to create arrays are:\n",
    "- np.arange()\n",
    "- np.linspace()\n",
    "- np.ones()\n",
    "- np.zeros()\n",
    "\n",
    "### Task 10:\n",
    "Experiment with these functions below, trying to understand the syntax and their output. Don't forget that you can get very convenient context help in Jupyter Notebook, when pressing \"Shift+Tab\" after you have typed a function's name. You also get useful autocompletion when starting, e.g. np.lin ..., and then pressing \"Tab\".\n",
    "\n",
    "1. Create an array with one hundred elements from -3 to 3.\n",
    "2. Create an array with one hundred elements ranging from 0 to 99.\n",
    "3. Create a two-dimensional array (a matrix) with 3 rows and 4 columns filled with ones."
   ]
  },
  {
   "cell_type": "code",
   "execution_count": null,
   "metadata": {
    "graffitiCellId": "id_ntean37"
   },
   "outputs": [],
   "source": [
    "# Write your code here."
   ]
  },
  {
   "cell_type": "markdown",
   "metadata": {
    "graffitiCellId": "id_hlnhb5c"
   },
   "source": [
    "<span class=\"graffiti-highlight graffiti-id_hlnhb5c-id_4dnl7k1\"><i></i><button>Show Solution</button></span>"
   ]
  },
  {
   "cell_type": "markdown",
   "metadata": {
    "graffitiCellId": "id_0ep2vl1"
   },
   "source": [
    "### Multi-dimensional arrays"
   ]
  },
  {
   "cell_type": "markdown",
   "metadata": {
    "graffitiCellId": "id_5pjq8xh"
   },
   "source": [
    "The next step is to create matrices. Again, using the ```array``` method is most straightforward. Essentially, you are using a list of lists as argument. Note that all lists must have the same number of elements."
   ]
  },
  {
   "cell_type": "code",
   "execution_count": null,
   "metadata": {
    "graffitiCellId": "id_g7vc6e1",
    "scrolled": true
   },
   "outputs": [],
   "source": [
    "x = np.array([[1,2,3],[4,5,6],[7,8,9]])\n",
    "print(x)"
   ]
  },
  {
   "cell_type": "markdown",
   "metadata": {
    "graffitiCellId": "id_b8l4le3"
   },
   "source": [
    "It is very important to understand the format of your data, as it is essential for indexing. Query this information with ```.shape```:"
   ]
  },
  {
   "cell_type": "code",
   "execution_count": null,
   "metadata": {
    "graffitiCellId": "id_94qv12k"
   },
   "outputs": [],
   "source": [
    "x.shape"
   ]
  },
  {
   "cell_type": "markdown",
   "metadata": {
    "graffitiCellId": "id_xzdrj1t"
   },
   "source": [
    "Often you will have to reshape your data. For this you use the ```.reshape(#rows, #columns)``` method. For example we can create a row vector from our matrix ```x``` like this:"
   ]
  },
  {
   "cell_type": "code",
   "execution_count": null,
   "metadata": {
    "graffitiCellId": "id_eetyq2l",
    "scrolled": true
   },
   "outputs": [],
   "source": [
    "y = x.reshape(9,1)\n",
    "print(y)\n",
    "print(y.shape)"
   ]
  },
  {
   "cell_type": "markdown",
   "metadata": {
    "graffitiCellId": "id_sz4175z"
   },
   "source": [
    "Often you don't want to think about the dimensions of your data. In that case you can use ```-1``` as a wildcard in your argument. Numpy will automatically determine the necessary number of rows or columns.\n",
    "See for example:"
   ]
  },
  {
   "cell_type": "code",
   "execution_count": null,
   "metadata": {
    "graffitiCellId": "id_3wvzif8",
    "scrolled": false
   },
   "outputs": [],
   "source": [
    "y = x.reshape(-1,1)\n",
    "print(y)\n",
    "print(y.shape)"
   ]
  },
  {
   "cell_type": "markdown",
   "metadata": {
    "graffitiCellId": "id_kagbkag"
   },
   "source": [
    "Or alternatively:"
   ]
  },
  {
   "cell_type": "code",
   "execution_count": null,
   "metadata": {
    "graffitiCellId": "id_8k4m6mo"
   },
   "outputs": [],
   "source": [
    "y = x.reshape(1,-1)\n",
    "print(y)\n",
    "print(y.shape)"
   ]
  },
  {
   "cell_type": "markdown",
   "metadata": {
    "graffitiCellId": "id_019air2"
   },
   "source": [
    "### <span class=\"graffiti-highlight graffiti-id_019air2-id_05g9emw\"><i></i>0-dimensional arrays</span>"
   ]
  },
  {
   "cell_type": "markdown",
   "metadata": {
    "graffitiCellId": "id_hr7imq3"
   },
   "source": [
    "Notice that above the shape was (9,1) and (1,9) respectively. It might be a bit confusing, but this is already considered two-dimensional data. See in comparison:"
   ]
  },
  {
   "cell_type": "code",
   "execution_count": null,
   "metadata": {
    "graffitiCellId": "id_aofj9op"
   },
   "outputs": [],
   "source": [
    "print(x.reshape(-1))\n",
    "print(x.reshape(-1).shape)"
   ]
  },
  {
   "cell_type": "markdown",
   "metadata": {
    "graffitiCellId": "id_pjhylim"
   },
   "source": [
    "This is also the standard shape that you get if you create an array like this:"
   ]
  },
  {
   "cell_type": "code",
   "execution_count": null,
   "metadata": {
    "graffitiCellId": "id_qzvx969"
   },
   "outputs": [],
   "source": [
    "np.array([1,2,3,4]).shape"
   ]
  },
  {
   "cell_type": "markdown",
   "metadata": {
    "graffitiCellId": "id_ca5zxbv"
   },
   "source": [
    "You must be aware of this behavior as it is important for indexing as well as some linear algebra operation, such as matrix multiplications. The ```.shape``` method is therefore crucial for debugging."
   ]
  },
  {
   "cell_type": "markdown",
   "metadata": {
    "graffitiCellId": "id_p3ih4xu"
   },
   "source": [
    "### <span class=\"graffiti-highlight graffiti-id_p3ih4xu-id_0ycszr6\"><i></i>Indexing</span>\n",
    "Indexing is very important for array and works similarly to lists for one dimensional data."
   ]
  },
  {
   "cell_type": "code",
   "execution_count": null,
   "metadata": {
    "graffitiCellId": "id_d19sdls"
   },
   "outputs": [],
   "source": [
    "x = np.arange(10)\n",
    "x[0:3]"
   ]
  },
  {
   "cell_type": "markdown",
   "metadata": {
    "graffitiCellId": "id_pp7m0t7"
   },
   "source": [
    "Indexing in multiple dimension is more complex but also intuitive:"
   ]
  },
  {
   "cell_type": "code",
   "execution_count": null,
   "metadata": {
    "graffitiCellId": "id_rjwe1ri"
   },
   "outputs": [],
   "source": [
    "x = np.arange(9).reshape(3,3)\n",
    "print(x)\n",
    "print(x[0:2,0:2])"
   ]
  },
  {
   "cell_type": "markdown",
   "metadata": {
    "graffitiCellId": "id_g4ex960"
   },
   "source": [
    "Even though this data is two dimensional you can also index with only one integer which yields:"
   ]
  },
  {
   "cell_type": "code",
   "execution_count": null,
   "metadata": {
    "graffitiCellId": "id_idhzqxp"
   },
   "outputs": [],
   "source": [
    "x[0]"
   ]
  },
  {
   "cell_type": "markdown",
   "metadata": {
    "graffitiCellId": "id_uax9snn"
   },
   "source": [
    "Which is the first row of x. Be aware though, that this is now one dimensional, whereas our indexing above returned two dimensional data. There are even more things to know about indexing but they are out of scope for now. See further information [here](https://docs.scipy.org/doc/numpy/reference/arrays.indexing.html)."
   ]
  },
  {
   "cell_type": "markdown",
   "metadata": {
    "graffitiCellId": "id_do0zcl0"
   },
   "source": [
    "### Linear Algebra with Numpy\n",
    "One of the main reasons to use Numpy are the convenient linear algebra features it offers. Among those the matrix multiplication might be the most important. If you need a refresh on matrix multplication click [here](https://www.purplemath.com/modules/mtrxmult.htm).\n",
    "We take from that exact example the matrices A and B and perform a multiplication with the ```@``` operator:"
   ]
  },
  {
   "cell_type": "code",
   "execution_count": null,
   "metadata": {
    "graffitiCellId": "id_q71hkt6"
   },
   "outputs": [],
   "source": [
    "A = np.array([[1,0,-2],[0, 3, -1]])\n",
    "print(A)\n",
    "B = np.array([[0, 3],[-2, -1], [0, 4]])\n",
    "print(B)\n",
    "\n",
    "AB = A@B\n",
    "\n",
    "print(AB)"
   ]
  },
  {
   "cell_type": "markdown",
   "metadata": {
    "graffitiCellId": "id_3s4sj35"
   },
   "source": [
    "Remember that in order to perform a matrix multiplication the shape of the matrices must match. \n",
    "\n",
    "```A.shape = (2,3) ```\n",
    "\n",
    "```B.shape = (3,2) ```\n",
    "\n",
    "The number of columns in A (3) must be the same as the number of rows in B (3). The resulting matrix will have the same number of rows as A (2) and the same number of columns as B (2).\n",
    "You can't perform a matrix multiplication with arrays that only have one dimension."
   ]
  },
  {
   "cell_type": "markdown",
   "metadata": {
    "graffitiCellId": "id_jrqv00o"
   },
   "source": [
    "### Pyplot\n",
    "Enough with arrays for now, let's create our first plot with Pyplot! For starters, we are interested to see what the function $y=f(x)=x\\cdot sin(x)$ looks like exactly. Specifically, we want to see the range from $-2\\pi$ to $2\\pi$.\n",
    "\n",
    "### Task 11:\n",
    "Create a variable x in this range with at least 100 individual points.\n",
    "Compute y, as defined above.\n"
   ]
  },
  {
   "cell_type": "code",
   "execution_count": null,
   "metadata": {
    "graffitiCellId": "id_kot0wnf"
   },
   "outputs": [],
   "source": [
    "# Write your code here."
   ]
  },
  {
   "cell_type": "markdown",
   "metadata": {
    "graffitiCellId": "id_jr0ix40"
   },
   "source": [
    "<span class=\"graffiti-highlight graffiti-id_jr0ix40-id_2jr1dnu\"><i></i><button>Show Solution</button></span>"
   ]
  },
  {
   "cell_type": "markdown",
   "metadata": {
    "graffitiCellId": "id_4l2gw9j"
   },
   "source": [
    "Plotting with pyplot is as simple as writing:"
   ]
  },
  {
   "cell_type": "code",
   "execution_count": null,
   "metadata": {
    "graffitiCellId": "id_kngahm9"
   },
   "outputs": [],
   "source": [
    "plt.plot(x,y) # plot y over x!\n",
    "plt.show()"
   ]
  },
  {
   "cell_type": "markdown",
   "metadata": {
    "graffitiCellId": "id_d0bkzk6"
   },
   "source": [
    "You can quickly customize plots and make them more informative as this example shows:"
   ]
  },
  {
   "cell_type": "code",
   "execution_count": null,
   "metadata": {
    "graffitiCellId": "id_grz2hiq"
   },
   "outputs": [],
   "source": [
    "x = np.linspace(0, 2, 100)\n",
    "\n",
    "plt.plot(x, x, label='linear')\n",
    "plt.plot(x, x**2, label='quadratic')\n",
    "plt.plot(x, x**3, label='cubic')\n",
    "\n",
    "plt.xlabel('x label')\n",
    "plt.ylabel('y label')\n",
    "\n",
    "plt.title(\"Simple Plot\")\n",
    "\n",
    "plt.legend()\n",
    "\n",
    "plt.show()"
   ]
  },
  {
   "cell_type": "markdown",
   "metadata": {
    "graffitiCellId": "id_yxabrhu"
   },
   "source": [
    "Deep customization and diverse plot types are possible but out of scope for this tutorial. See these two links for (some) further information\n",
    "- [Guide](https://matplotlib.org/tutorials/introductory/usage.html#sphx-glr-tutorials-introductory-usage-py)\n",
    "- [Tutorial](https://matplotlib.org/tutorials/introductory/pyplot.html)\n",
    "\n",
    "That concludes our introduction to Numpy and Matplotlib. In the next section you will be working on an concrete example where these tools are applied."
   ]
  },
  {
   "cell_type": "markdown",
   "metadata": {
    "graffitiCellId": "id_d1jja9z"
   },
   "source": [
    "### <span class=\"graffiti-highlight graffiti-id_d1jja9z-id_9lyd3yz\"><i></i>Polynomial Regression</span>"
   ]
  },
  {
   "cell_type": "markdown",
   "metadata": {
    "graffitiCellId": "id_z4y1vnu"
   },
   "source": [
    "We have prepared some data for you in an external .mat file. You can import this data with the following package:"
   ]
  },
  {
   "cell_type": "code",
   "execution_count": 10,
   "metadata": {
    "graffitiCellId": "id_70j1bsw"
   },
   "outputs": [],
   "source": [
    "import scipy.io as sio"
   ]
  },
  {
   "cell_type": "markdown",
   "metadata": {
    "graffitiCellId": "id_hkjs4q3"
   },
   "source": [
    "Simply by executing:"
   ]
  },
  {
   "cell_type": "code",
   "execution_count": 11,
   "metadata": {
    "graffitiCellId": "id_aldo3k3"
   },
   "outputs": [],
   "source": [
    "data = sio.loadmat('1d_data.mat')"
   ]
  },
  {
   "cell_type": "markdown",
   "metadata": {
    "graffitiCellId": "id_g591qq6"
   },
   "source": [
    "In this format you will always import a ```dict``` which you can verify by executing:"
   ]
  },
  {
   "cell_type": "code",
   "execution_count": 12,
   "metadata": {
    "graffitiCellId": "id_0wg1vfv"
   },
   "outputs": [
    {
     "data": {
      "text/plain": [
       "dict"
      ]
     },
     "execution_count": 12,
     "metadata": {},
     "output_type": "execute_result"
    }
   ],
   "source": [
    "type(data)"
   ]
  },
  {
   "cell_type": "markdown",
   "metadata": {
    "graffitiCellId": "id_0i5i3in"
   },
   "source": [
    "To identify what the dictionary contains, use the ```.keys()```method:"
   ]
  },
  {
   "cell_type": "code",
   "execution_count": 13,
   "metadata": {
    "graffitiCellId": "id_q5q5zbv"
   },
   "outputs": [
    {
     "data": {
      "text/plain": [
       "dict_keys(['__header__', '__version__', '__globals__', 'x', 'y'])"
      ]
     },
     "execution_count": 13,
     "metadata": {},
     "output_type": "execute_result"
    }
   ],
   "source": [
    "data.keys()"
   ]
  },
  {
   "cell_type": "markdown",
   "metadata": {
    "graffitiCellId": "id_eenqol0"
   },
   "source": [
    "Note that the keys ```['__header__', '__version__', '__globals__']``` are always part of the .mat file. We are only interested in the remaining keys."
   ]
  },
  {
   "cell_type": "markdown",
   "metadata": {
    "graffitiCellId": "id_bqdgtpn"
   },
   "source": [
    "For convenience we take the data from the dict and assign it to dedicated variables with the same names:"
   ]
  },
  {
   "cell_type": "code",
   "execution_count": 14,
   "metadata": {
    "graffitiCellId": "id_542ml6l"
   },
   "outputs": [],
   "source": [
    "x = data['x']\n",
    "y = data['y']"
   ]
  },
  {
   "cell_type": "markdown",
   "metadata": {
    "graffitiCellId": "id_qfd6l7q"
   },
   "source": [
    "### Task 12: Investigate the data\n",
    "As a first step it is advisible to have a look at what you are dealing with. We want to identify \n",
    "- the **dimensions** of the data (use ```.shape()``` method on x and y)\n",
    "- Visualize the data with pyplot. You will notice that a line graph might not be the best idea."
   ]
  },
  {
   "cell_type": "code",
   "execution_count": 73,
   "metadata": {
    "graffitiCellId": "id_ykl8gnw",
    "scrolled": false
   },
   "outputs": [
    {
     "name": "stdout",
     "output_type": "stream",
     "text": [
      "(50, 1)\n"
     ]
    },
    {
     "data": {
      "image/png": "[encoded data removed]",
      "text/plain": [
       "<Figure size 432x288 with 1 Axes>"
      ]
     },
     "metadata": {
      "needs_background": "light"
     },
     "output_type": "display_data"
    }
   ],
   "source": [
    "# 01 - Identify the shape of x and y and print it in a readable form:\n",
    "# Your code here!\n",
    "print(np.shape(x))\n",
    "\n",
    "# 02 - Create a plot of x over y. Use plt.plot(). Feel free to add axis label, a title etc.\n",
    "# Your code here!\n",
    "plt.plot(x,y, label='tull')\n",
    "plt.title('tulletest')\n",
    "plt.xlabel('xtull')\n",
    "plt.ylabel('ytull')\n",
    "plt.show()\n"
   ]
  },
  {
   "cell_type": "markdown",
   "metadata": {
    "graffitiCellId": "id_pove5f9"
   },
   "source": [
    "<span class=\"graffiti-highlight graffiti-id_pove5f9-id_qc9fn7i\"><i></i><button>Show Solution</button></span>"
   ]
  },
  {
   "cell_type": "markdown",
   "metadata": {
    "graffitiCellId": "id_gtdaxn7"
   },
   "source": [
    "We can clearly recognize a non-linear trend in the data, however, there seems to be some noise and we even have outliers. Next, we want to perform a regression and find a good polynomial fit for the data.\n",
    "Therefore, we assume that the following function:\n",
    "\n",
    "$$\n",
    "\\hat{y} = f(x, p) = p_1 + p_2 \\cdot x + p_3\\cdot x^2 + p_4\\cdot x^3 ...\n",
    "$$\n",
    "\n",
    "describes the data well. We also introduce $\\hat{y}$ to denote that these are the approximated values of $y$.\n",
    "The task is now to determine the values of $p_1, p_2, \\dots, p_n$. Furthermore, it is our choice which degree of polynomial (n-th degree means we have $n$ in $x^n$ as our highest exponent) we decide to fit."
   ]
  },
  {
   "cell_type": "markdown",
   "metadata": {
    "graffitiCellId": "id_lk8r1v5"
   },
   "source": [
    "The most common approach to this problem is to perform least-squares regression. This simply means that for each data point $(x_k,\\ y_k)$ we demand that the expression:\n",
    "\n",
    "$$\n",
    "(\\hat{y}_k-y_k)^2 = (f(x_k, p)-y_k)^2 \n",
    "$$\n",
    "\n",
    "becomes as small as possible by choosing appropriate values for our parameters $p$. Squaring the difference has two effects: First, we ensure that the value is always greater or equal than zero. And second, larger deviations are penalized more than smaller deviations. \n",
    "\n",
    "Next we have to take into account that we have more than one data point. For this we simply add all costs (the expression from above):\n",
    "\n",
    "$$\n",
    "J(p) = \\sum_{k=1}^n (f(x_k, p)-y_k)^2 \n",
    "$$\n",
    "\n",
    "Note that $J(p)$ is only a function of $p$, as $x$ and $y$ are given data points and cannot be altered."
   ]
  },
  {
   "cell_type": "markdown",
   "metadata": {
    "graffitiCellId": "id_w1xvkf2"
   },
   "source": [
    "***\n",
    "### Task 13:\n",
    "Before we continue with our polynomial regression problem, let's refresh our knowledge of finding minima of functions. \n",
    "\n",
    "Determine the minima of:\n",
    "1. $f(x) = 4+2x^2+1$\n",
    "2. $f(x) = 4x^4-3x^2+1$\n",
    "3. $f(x) = x^3$\n",
    "4. $f(x,y) = 2(x-3)^2+(y+1)^2$\n",
    "\n",
    "For this task you wont need Python but a piece of paper, however, you can check your results by plotting the functions.\n",
    "***"
   ]
  },
  {
   "cell_type": "markdown",
   "metadata": {
    "graffitiCellId": "id_bo8dx6i"
   },
   "source": [
    "Hopefully, you remembered that you need the derivative / gradient to approach this task:\n",
    "It is necessary that the derivative of a function\n",
    "\n",
    "$$f'(x_{min})=\\frac{\\partial f}{\\partial x}(x_{min}) = 0 $$\n",
    "\n",
    "is zero for $x_{min}$ to be a local minimum of the function.\n",
    "Furthermore, you saw in (3) that this is not sufficient. To ensure $x_{min}$ is a local minima we also need the condition:\n",
    "\n",
    "$$f''(x_{min})=\\frac{\\partial^2 f}{\\partial x^2}(x_{min}) \\neq 0 $$\n",
    "\n",
    "For multidimensional functions, such as the simple example in (4), we have a similar condition. However, we call the derivative \"Gradient\" in that case and use the following notation:\n",
    "\n",
    "$$\\nabla f(x_{min},y_{min}) = \\begin{bmatrix} \\frac{\\partial f}{\\partial x}(x_{min},y_{min})\\\\\\frac{\\partial f}{\\partial y}(x_{min},y_{min})\\end{bmatrix}= \\begin{bmatrix} 0 \\\\ 0 \\end{bmatrix} $$\n"
   ]
  },
  {
   "cell_type": "markdown",
   "metadata": {
    "graffitiCellId": "id_lhxcn3j"
   },
   "source": [
    "This is important, as our function of interest $J(p)$ is depending on multiple variables ($p = p_1, p_2, ...$).\n",
    "\n",
    "We reformulate that equation into a more convenient expression to determine the gradient, by starting with the original regression equation (for a concrete example of order 3):\n",
    "\n",
    "$$\n",
    "\\hat{y} = f(x, p) = p_1 + p_2 \\cdot x + p_3\\cdot x^2 + p_4\\cdot x^3\n",
    "$$\n",
    "\n",
    "Let's denote $p = \\begin{bmatrix}p_1\\\\ p_2\\\\ p_3 \\\\ p_4\\end{bmatrix}$ and \n",
    "$X = \\begin{bmatrix}1& x_1& x_1^2& x_1^3\\\\ 1& x_2& x_2^2& x_2^3 \\\\ \\vdots & \\vdots & \\vdots & \\vdots\\\\ 1& x_N& x_N^2& x_N^3 \\end{bmatrix}$\n",
    "\n",
    "See for yourself that multiplying $X$ and $p$ will give use the vector $\\hat{y}$. So we can write:\n",
    "\n",
    "$$\\hat{y} = Xp$$\n",
    "\n",
    "**<span class=\"graffiti-highlight graffiti-id_lhxcn3j-id_wissl3c\"><i></i>Some remarks</span>**"
   ]
  },
  {
   "cell_type": "markdown",
   "metadata": {
    "graffitiCellId": "id_1wjrl0c"
   },
   "source": [
    "### Task 14\n",
    "Create a function that returns $X$ for a user defined order of polynomial regression. The order determines the number of columns in $X$.\n",
    "\n",
    "**Hints:**\n",
    "- Have a look at ```np.concatenate```. You can Google it or use ```help(np.concatenate)```. After you have typed a function you can also use \"shift+Tab\" to see context help.\n",
    "- Remember list comprehensions from above?\n",
    "- What is $x^0$?"
   ]
  },
  {
   "cell_type": "code",
   "execution_count": 48,
   "metadata": {
    "graffitiCellId": "id_vsdk2gh",
    "scrolled": true
   },
   "outputs": [
    {
     "name": "stdout",
     "output_type": "stream",
     "text": [
      "[[-0.09504959]\n",
      " [ 0.04767704]\n",
      " [-0.00928601]\n",
      " [ 5.80936385]\n",
      " [-1.17106324]\n",
      " [ 3.00323454]\n",
      " [ 2.1730584 ]\n",
      " [-2.53222242]\n",
      " [ 1.88554292]\n",
      " [-1.12845797]\n",
      " [-2.18018838]\n",
      " [ 4.82870141]\n",
      " [-2.75367198]\n",
      " [ 5.7176207 ]\n",
      " [-0.05250099]\n",
      " [ 0.69250162]\n",
      " [-1.78010206]\n",
      " [-1.8564032 ]\n",
      " [ 0.72585582]\n",
      " [ 2.55699362]\n",
      " [-1.80959787]\n",
      " [ 5.77033096]\n",
      " [-1.37428408]\n",
      " [ 3.8431492 ]\n",
      " [ 1.33945634]\n",
      " [ 3.91270981]\n",
      " [-0.27391401]\n",
      " [-2.86342418]\n",
      " [ 1.17031818]\n",
      " [ 3.33003371]\n",
      " [-2.40563196]\n",
      " [ 3.02110276]\n",
      " [ 0.1093115 ]\n",
      " [ 2.32549325]\n",
      " [-0.93851888]\n",
      " [-0.59188474]\n",
      " [ 5.39544287]\n",
      " [ 4.43530553]\n",
      " [-1.69101126]\n",
      " [ 2.82303249]\n",
      " [ 4.95556049]\n",
      " [ 3.67224481]\n",
      " [ 1.64139719]\n",
      " [-1.78273341]\n",
      " [-2.64104713]\n",
      " [ 4.50889649]\n",
      " [-1.94647918]\n",
      " [ 1.70792082]\n",
      " [ 4.85752621]\n",
      " [-2.65162947]]\n"
     ]
    }
   ],
   "source": [
    "def X_fun(x,order):\n",
    "    # Write your code here!\n",
    "    X = np.concatenate([x**n for n in range(order)], axis=1)\n",
    "    return X\n",
    "\n",
    "print(x)"
   ]
  },
  {
   "cell_type": "markdown",
   "metadata": {
    "graffitiCellId": "id_af3dlnj"
   },
   "source": [
    "<span class=\"graffiti-highlight graffiti-id_af3dlnj-id_wh25arv\"><i></i><button>Hide Solution</button></span>"
   ]
  },
  {
   "cell_type": "code",
   "execution_count": 74,
   "metadata": {
    "graffitiCellId": "id_wh25arv"
   },
   "outputs": [
    {
     "name": "stdout",
     "output_type": "stream",
     "text": [
      "2nd order, shape=(50, 2)\n",
      "3rd order, shape=(50, 3)\n"
     ]
    }
   ],
   "source": [
    "def X_fun(x,order):\n",
    "    # Write your code here!\n",
    "    X = np.concatenate([x**n for n in range(order)],axis=1)\n",
    "    return X\n",
    "\n",
    "print('2nd order, shape={}'.format(X_fun(x,order=2).shape))\n",
    "print('3rd order, shape={}'.format(X_fun(x,order=3).shape))\n"
   ]
  },
  {
   "cell_type": "markdown",
   "metadata": {
    "graffitiCellId": "id_nq8obwc"
   },
   "source": [
    "Quickly validate that you have the right solution by running:"
   ]
  },
  {
   "cell_type": "code",
   "execution_count": 35,
   "metadata": {
    "graffitiCellId": "id_9h1ui0a"
   },
   "outputs": [
    {
     "data": {
      "text/plain": [
       "array([ 50.        ,  51.73068052, 423.41600145])"
      ]
     },
     "execution_count": 35,
     "metadata": {},
     "output_type": "execute_result"
    }
   ],
   "source": [
    "np.sum(X_fun(x,order=3),axis=0)"
   ]
  },
  {
   "cell_type": "markdown",
   "metadata": {
    "graffitiCellId": "id_ahmp0iw"
   },
   "source": [
    "This should yield:\n",
    "\n",
    "```array([ 50., 51.73068052, 423.41600145])```"
   ]
  },
  {
   "cell_type": "markdown",
   "metadata": {
    "graffitiCellId": "id_5mm26tt"
   },
   "source": [
    "We will also reformulate our cost function to a matrix/vector notation that will be useful (but might be confusing at first):\n",
    "\n",
    "$$ J(p) = (\\hat{y}-y)^T (\\hat{y}-y) $$\n",
    "\n",
    "This might seem a bit unintuitive but it is excatly the same as:\n",
    "\n",
    "$$ J(p) = \\sum_{k=1}^n (\\hat{y}-y_k)^2  $$ \n",
    "\n",
    "from above, since:\n",
    "\n",
    "$$(\\hat{y}-y)^T (\\hat{y}-y) =\\begin{bmatrix}\\hat{y}_1-y_1 & \\hat{y}_2-y_2 & \\dots & \\hat{y}_N-y_N\\end{bmatrix} \\begin{bmatrix}\\hat{y}_1-y_1\\\\ \\hat{y}_2-y_2 \\\\ \\vdots \\\\ \\hat{y}_N-y_N\\end{bmatrix} = (\\hat{y}_1-y_1)^2 + \\dots +(\\hat{y}_N-y_N)^2$$\n",
    "\n",
    "All you need to know about is matrix multiplication (row times columns ... ) and that the superscript \"T\" stands for **transposed** and means that a vector/matrix switches its rows and columns."
   ]
  },
  {
   "cell_type": "markdown",
   "metadata": {
    "graffitiCellId": "id_xs49qr5"
   },
   "source": [
    "We know subustitute $\\hat{y}$ in $J(p)$ with our expression from above $\\hat{y}= Xp$:\n",
    "\n",
    "$$ J(p) = (Xp-y)^T (Xp-y) $$\n",
    "\n",
    "***\n",
    "### Task 15:\n",
    "Expand the expression for $J(p)$ using the following rules:\n",
    "- $(A+B)^T = A^T + B^T$\n",
    "- $(AB)^T = B^TA^T$\n",
    "***\n",
    "\n",
    "\n",
    "From this point we can use the methods that we reviewed above to find the minima of our function with respect to $p$. Our condition is:\n",
    "\n",
    "$$\\nabla J(p) = 0 $$\n",
    "\n",
    "***\n",
    "### Task 16:\n",
    "Use matrix differentiation to determine an expression for $\\nabla J(p)$.\n",
    "The following rules (without proof) should be used:\n",
    "- $\\nabla_x (Ax) = A $\n",
    "- $\\nabla_x (x^T A x) = x^T(A+A^T)$\n",
    "- $A^T=A$,  for symmetric matrices\n",
    "- $A^T A$, yields always a symmetric matrix\n",
    "\n",
    "The rules from above are also still valid. Note that $\\nabla_x$ just clarifies that we derive with respect to $x$.\n",
    "***"
   ]
  },
  {
   "cell_type": "markdown",
   "metadata": {
    "graffitiCellId": "id_whiwxwj"
   },
   "source": [
    "Your final expression should look like this:\n",
    "\n",
    "$$ 2 p^T(X^T X)-2y^TX = 0 $$\n",
    "\n",
    "With the definition of the \"inverse matrix\":\n",
    "\n",
    "$$ A^{-1} A = I $$\n",
    "\n",
    "where $I$ is the identy matrix, a matrix with only ones on the diagonal and zeros everywhere else. Multiplication with the identity is a neutral operation such as multiplying by one. You should therefore be able to derive the final expression:\n",
    "\n",
    "***\n",
    "### Task 17:\n",
    "Reformulate the expression above and derive:\n",
    "\n",
    "$$ p^T = y^T X (X^TX)^{-1} $$\n",
    "***\n"
   ]
  },
  {
   "cell_type": "markdown",
   "metadata": {
    "graffitiCellId": "id_o6y16ca"
   },
   "source": [
    "### Task 18:\n",
    "Using the previously defined ```X_fun```, and the derived expression for $p^T$, write a function that takes as input the order of the polynomial regression, the data vector x and y and returns the parameter vector $p$ (not $p^T$).\n",
    "\n",
    "Note that the @ symbol can be used for matrix multiplication. The * symbol will execute an [elementwise multiplication](https://scipy-lectures.org/intro/numpy/operations.html#elementwise-operations)."
   ]
  },
  {
   "cell_type": "code",
   "execution_count": 37,
   "metadata": {
    "graffitiCellId": "id_z80w90w"
   },
   "outputs": [],
   "source": [
    "def poly_regression(x,y, order):\n",
    "    # Write your code here.\n",
    "    X = X_fun(x, order)\n",
    "    p_t = y.T@X@np.linalg.inv(X.T@X)\n",
    "    return p_t.T"
   ]
  },
  {
   "cell_type": "markdown",
   "metadata": {
    "graffitiCellId": "id_9upn7r1"
   },
   "source": [
    "<span class=\"graffiti-highlight graffiti-id_9upn7r1-id_kx91mfa\"><i></i><button>Hide Solution</button></span>"
   ]
  },
  {
   "cell_type": "code",
   "execution_count": 38,
   "metadata": {
    "graffitiCellId": "id_kx91mfa"
   },
   "outputs": [],
   "source": [
    "def poly_regression(x,y, order):\n",
    "    # Write your code here.\n",
    "    X = X_fun(x,order=order)\n",
    "    p = y.T@X@np.linalg.inv(X.T@X)\n",
    "    return p.T\n"
   ]
  },
  {
   "cell_type": "markdown",
   "metadata": {
    "graffitiCellId": "id_sbikqzb"
   },
   "source": [
    "Use that newly created function to determine p. And compare it to our results:\n",
    "\n",
    "```\n",
    "[[-2.75596462]\n",
    " [-2.60619295]\n",
    " [ 0.43052492]]\n",
    "```"
   ]
  },
  {
   "cell_type": "code",
   "execution_count": 39,
   "metadata": {
    "graffitiCellId": "id_odhgad5",
    "scrolled": true
   },
   "outputs": [
    {
     "name": "stdout",
     "output_type": "stream",
     "text": [
      "[[-2.75596462]\n",
      " [-2.60619295]\n",
      " [ 0.43052492]]\n"
     ]
    }
   ],
   "source": [
    "p = poly_regression(x,y,order=3)\n",
    "print(p)"
   ]
  },
  {
   "cell_type": "markdown",
   "metadata": {
    "graffitiCellId": "id_hfbmstk"
   },
   "source": [
    "### Task 19:\n",
    "\n",
    "Create a new variable ```x_reg``` with linear spacing (see ```np.linspace```) in the same range as the original ```x``` and use ```X_fun``` and ```poly_regression``` to create parameters and results for the polynomial regression of different orders (1-5)."
   ]
  },
  {
   "cell_type": "code",
   "execution_count": 63,
   "metadata": {
    "graffitiCellId": "id_ismr86k"
   },
   "outputs": [
    {
     "name": "stdout",
     "output_type": "stream",
     "text": [
      "[[ 3.27867110e+00]\n",
      " [-5.86022984e-01]\n",
      " [ 3.63661887e-02]\n",
      " [-1.21134946e-03]\n",
      " [ 1.37223328e-05]]\n"
     ]
    }
   ],
   "source": [
    "# Write your code here.\n",
    "x_reg = np.linspace([1.0], [50.0], num=50, axis=0)\n",
    "#print(x_reg)\n",
    "X_reg = [X_fun(x, o) for o in range(1,6)]\n",
    "p_regs = [poly_regression(x_reg, y, o) for o in range(1,6)]\n"
   ]
  },
  {
   "cell_type": "markdown",
   "metadata": {
    "graffitiCellId": "id_vswrgm2"
   },
   "source": [
    "<span class=\"graffiti-highlight graffiti-id_vswrgm2-id_2caennx\"><i></i><button>Show Solution</button></span>"
   ]
  },
  {
   "cell_type": "markdown",
   "metadata": {
    "graffitiCellId": "id_x35ojwp"
   },
   "source": [
    "Plot the different regression models in comparison with the original data. Add a legend to the plot to make it clear."
   ]
  },
  {
   "cell_type": "code",
   "execution_count": 82,
   "metadata": {
    "graffitiCellId": "id_inlbegm"
   },
   "outputs": [
    {
     "data": {
      "image/png": "[encoded data removed]",
      "text/plain": [
       "<Figure size 432x288 with 1 Axes>"
      ]
     },
     "metadata": {
      "needs_background": "light"
     },
     "output_type": "display_data"
    }
   ],
   "source": [
    "# Write your code here.\n",
    "orders=[1,2,3,4,5]\n",
    "for order in range(0,5):\n",
    "    plt.plot(x_reg ,X_reg[order]@p_regs[order], label=order)\n",
    "plt.plot(x_reg, y, label='t')\n",
    "plt.legend()\n",
    "plt.show()\n",
    "\n",
    "    "
   ]
  },
  {
   "cell_type": "markdown",
   "metadata": {
    "graffitiCellId": "id_wdtevdv"
   },
   "source": [
    "<span class=\"graffiti-highlight graffiti-id_wdtevdv-id_fqj8by6\"><i></i><button>Show Solution</button></span>"
   ]
  },
  {
   "cell_type": "markdown",
   "metadata": {
    "graffitiCellId": "id_m5t7oiv"
   },
   "source": [
    "Two of the investigated models should be well suited to describe the data. In this case it is usually advisable to use the model of lowest complexity (here: the lowest order).\n",
    "\n",
    "For this model we also want to investigate a **parity plot**. A parity plot is a scatter plot that compares the measured data with the regressed data points. In other words, we plot $\\hat{y}$ over $y$, where $\\hat{y}$ was computed with the original $x$ values. \n",
    "\n",
    "### Task 20: \n",
    "\n",
    "1. Compute $\\hat{y}$  for the original $x$ values and (scatter) plot it over $y$\n",
    "2. Add the line $y=\\hat{y}$ to this plot. Ideally, all points should be on this line. This is another good way to investigate the quality of the fit. \n",
    "3. Also include the $\\pm 20\\%$ error lines. This helps us to quantify the error in different regions."
   ]
  },
  {
   "cell_type": "code",
   "execution_count": 88,
   "metadata": {
    "graffitiCellId": "id_6zuhpp4"
   },
   "outputs": [
    {
     "data": {
      "text/plain": [
       "[<matplotlib.lines.Line2D at 0x7f85722d3350>]"
      ]
     },
     "execution_count": 88,
     "metadata": {},
     "output_type": "execute_result"
    },
    {
     "data": {
      "image/png": "[encoded data removed]",
      "text/plain": [
       "<Figure size 432x288 with 1 Axes>"
      ]
     },
     "metadata": {
      "needs_background": "light"
     },
     "output_type": "display_data"
    }
   ],
   "source": [
    "# Get the parmeter vector p from the poly_regresssion function and compute yhat\n",
    "# Alternatively, use your results from the previous task.\n",
    "# Write your code here.\n",
    "y_hat=X_fun(x,3)@p\n",
    "\n",
    "# Plot yhat over y\n",
    "# Write your code here.\n",
    "plt.scatter(y_hat,y)\n",
    "\n",
    "# Plot y over y (parity line)\n",
    "# Write your code here.\n",
    "plt.plot(y,y)\n",
    "\n",
    "# Plot y+20% over y  and y-20% over y\n",
    "# Write your code here\n",
    "plt.plot(y*1.2, y)\n",
    "plt.plot(y*0.8, y)\n",
    "\n",
    "# Optionally, make things pretty :)"
   ]
  },
  {
   "cell_type": "markdown",
   "metadata": {
    "graffitiCellId": "id_j6j2u9r"
   },
   "source": [
    "<span class=\"graffiti-highlight graffiti-id_j6j2u9r-id_jli2th5\"><i></i><button>Show Solution</button></span>"
   ]
  },
  {
   "cell_type": "markdown",
   "metadata": {
    "graffitiCellId": "id_w5pcrde"
   },
   "source": [
    "Last but not least, a few more words about least-squares regression, respectively a nice graphic to illustrate the idea. \n",
    "Remember that we are trying to minimize:\n",
    "\n",
    "$$ J(p) = \\sum_{k=1}^n (\\hat{y}-y_k)^2  $$ \n",
    "\n",
    "This cost can be depicted in the parity plot as a square for each data point $(x_k, y_k)$, with a side length of $\\hat{y}-y_k$. In the code block below we prepared such a graphic for you."
   ]
  },
  {
   "cell_type": "code",
   "execution_count": 90,
   "metadata": {
    "graffitiCellId": "id_isadmo3"
   },
   "outputs": [
    {
     "data": {
      "image/png": "[encoded data removed]",
      "text/plain": [
       "<Figure size 432x288 with 1 Axes>"
      ]
     },
     "metadata": {
      "needs_background": "light"
     },
     "output_type": "display_data"
    }
   ],
   "source": [
    "from matplotlib.patches import Rectangle\n",
    "from matplotlib.collections import PatchCollection\n",
    "yhat=y_hat\n",
    "plt.plot(y,yhat,'x')\n",
    "plt.plot(y,y)\n",
    "\n",
    "patches = [] # Initiate empty list.\n",
    "for k in range(y.shape[0]):\n",
    "    dy = (y[k]-yhat[k])\n",
    "    # Add new patch to list with lower left edge at (y[k],yhat[k]) and side length dy\n",
    "    patches.append(Rectangle((y[k],yhat[k]),dy,dy))\n",
    "\n",
    "# Create patch location and set transparency to 40%\n",
    "p = PatchCollection(patches, alpha=0.4)\n",
    "# Get current axis (gca) and add_collection of patches:\n",
    "plt.gca().add_collection(p)\n",
    "# Add axis label\n",
    "plt.xlabel('y measured')\n",
    "plt.ylabel('y estimated')\n",
    "# Show plot:\n",
    "plt.show()"
   ]
  },
  {
   "cell_type": "markdown",
   "metadata": {
    "graffitiCellId": "id_2eul57x"
   },
   "source": [
    "Our regression model was chosen such that the sum of the area of these blue squares is minimal."
   ]
  },
  {
   "cell_type": "markdown",
   "metadata": {
    "graffitiCellId": "id_0u0cd6m"
   },
   "source": [
    "### Congratulations! You have finished the first assignment."
   ]
  }
 ],
 "metadata": {
  "graffiti": {
   "firstAuthorId": "dev",
   "id": "id_77olzdi",
   "language": "EN"
  },
  "kernelspec": {
   "display_name": "Python 3",
   "language": "python",
   "name": "python3"
  },
  "language_info": {
   "codemirror_mode": {
    "name": "ipython",
    "version": 3
   },
   "file_extension": ".py",
   "mimetype": "text/x-python",
   "name": "python",
   "nbconvert_exporter": "python",
   "pygments_lexer": "ipython3",
   "version": "3.7.6"
  },
  "toc": {
   "base_numbering": 1,
   "nav_menu": {},
   "number_sections": true,
   "sideBar": true,
   "skip_h1_title": false,
   "title_cell": "Table of Contents",
   "title_sidebar": "Contents",
   "toc_cell": false,
   "toc_position": {},
   "toc_section_display": true,
   "toc_window_display": false
  },
  "varInspector": {
   "cols": {
    "lenName": 16,
    "lenType": 16,
    "lenVar": 40
   },
   "kernels_config": {
    "python": {
     "delete_cmd_postfix": "",
     "delete_cmd_prefix": "del ",
     "library": "var_list.py",
     "varRefreshCmd": "print(var_dic_list())"
    },
    "r": {
     "delete_cmd_postfix": ") ",
     "delete_cmd_prefix": "rm(",
     "library": "var_list.r",
     "varRefreshCmd": "cat(var_dic_list()) "
    }
   },
   "types_to_exclude": [
    "module",
    "function",
    "builtin_function_or_method",
    "instance",
    "_Feature"
   ],
   "window_display": false
  }
 },
 "nbformat": 4,
 "nbformat_minor": 2
}
