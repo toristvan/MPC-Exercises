{
 "cells": [
  {
   "cell_type": "markdown",
   "metadata": {
    "graffitiCellId": "id_2hkv6mq"
   },
   "source": [
    "<table style=\"width:100%\"><tr>\n",
    "<td> \n",
    "    \n",
    "Technische Universität Berlin\\\n",
    "Electrical Engineering and Computer Science\\\n",
    "Internet of Things for Smart Buildings\\\n",
    "Prof. Dr. Sergio Lucia, Felix Fiedler, Benjamin Karg </td>\n",
    "<td>  <img src=\"logo_tu.png\" style=\"width: 20%;\" align=\"right\"/> </td>\n",
    "</tr>\n",
    "</table>\n",
    "\n",
    "***\n",
    "**MPC 20 - Exercise 02**\n",
    "***\n",
    "\n",
    "# <span class=\"graffiti-highlight graffiti-id_2hkv6mq-id_kth1xog\"><i></i>Please click here!</span>\n",
    "\n",
    "# CasADi Tutorial\n",
    "\n",
    "In this exercise we will explore the Python library [CasADi](https://web.casadi.org/docs/).\n",
    "We will use this library extensively in the upcoming exercise(s) and your projects.\n",
    "\n",
    "## What is CasADi (and what is it not)?\n",
    "CasADi started out as a tool for algorithmic differentiation (AD) using a syntax borrowed from computer algebra systems (CAS), which explains its name. While AD still forms one of the core functionalities of the tool, the scope of the tool has since been considerably broadened, with the addition of support for ODE/DAE integration and sensitivity analysis, nonlinear programming and interfaces to other numerical tools. In its current form, it is a general-purpose tool for gradient-based numerical optimization – with a strong focus on optimal control – and CasADi is just a name without any particular meaning.\n",
    "\n",
    "It is important to point out that CasADi is not a conventional AD tool, that can be used to calculate derivative information from existing user code with little to no modification. If you have an existing model written in C++, Python or MATLAB/Octave, you need to be prepared to reimplement the model using CasADi syntax.\n",
    "\n",
    "Secondly, CasADi is not a computer algebra system. While the symbolic core does include an increasing set of tools for manipulate symbolic expressions, these capabilities are very limited compared to a proper CAS tool.\n",
    "\n",
    "Finally, CasADi is not an “optimal control problem solver”, that allows the user to enter an OCP and then gives the solution back. Instead, it tries to provide the user with a set of “building blocks” that can be used to implement general-purpose or specific-purpose OCP solvers efficiently with a modest programming effort.\n",
    "\n",
    "**Taken from:** [CasADi](https://web.casadi.org/docs/)\n",
    "\n",
    "## Install CasADi\n",
    "- If you are using this Notebook from **Binder**, CasADi will be already installed. Binder checks the included `requirements.txt` file and uses `pip` to install all listed packages.\n",
    "- If you are working locally, use: `pip install casadi`. This should be executed in a terminal, prior to launching the Jupyter Noteboook.\n",
    "   "
   ]
  },
  {
   "cell_type": "markdown",
   "metadata": {
    "colab_type": "text",
    "graffitiCellId": "id_rqy9wk4",
    "id": "2kQ0O8ibcoPQ"
   },
   "source": [
    "## <span class=\"graffiti-highlight graffiti-id_rqy9wk4-id_66aabzh\"><i></i>First steps with CasADi</span>\n",
    "We start by importing CasADi as well as some previously introduced packages for Python."
   ]
  },
  {
   "cell_type": "code",
   "execution_count": 1,
   "metadata": {
    "colab": {},
    "colab_type": "code",
    "graffitiCellId": "id_xgje2x0",
    "id": "vXBDa6mdbdTm"
   },
   "outputs": [],
   "source": [
    "# Import everything (*) from casadi\n",
    "from casadi import *\n",
    "# We also already import matplotlib for plotting:\n",
    "import matplotlib.pyplot as plt\n",
    "# And numpy because we cant live without numpy (it gives as matrices <3:\n",
    "import numpy as np"
   ]
  },
  {
   "cell_type": "code",
   "execution_count": 2,
   "metadata": {
    "graffitiCellId": "id_98bo633"
   },
   "outputs": [
    {
     "data": {
      "text/plain": [
       "SX(x)"
      ]
     },
     "execution_count": 2,
     "metadata": {},
     "output_type": "execute_result"
    }
   ],
   "source": [
    "# Define a symbol\n",
    "x = SX.sym(\"x\")\n",
    "x"
   ]
  },
  {
   "cell_type": "code",
   "execution_count": 3,
   "metadata": {
    "graffitiCellId": "id_0a55mnu"
   },
   "outputs": [
    {
     "name": "stdout",
     "output_type": "stream",
     "text": [
      "(3*sq(x))\n"
     ]
    }
   ],
   "source": [
    "# Any expression that uses a symbol is also a symbol\n",
    "a = 3*x**2\n",
    "print(a)"
   ]
  },
  {
   "cell_type": "code",
   "execution_count": 4,
   "metadata": {
    "colab": {
     "base_uri": "https://localhost:8080/",
     "height": 68
    },
    "colab_type": "code",
    "graffitiCellId": "id_m677hrg",
    "id": "UJ86wQyKbt_i",
    "outputId": "93a6bd05-120d-4506-f601-908baa587362"
   },
   "outputs": [
    {
     "name": "stdout",
     "output_type": "stream",
     "text": [
      "[y_0, y_1, y_2, y_3, y_4]\n"
     ]
    }
   ],
   "source": [
    "# You can define a vector of symbols of any size\n",
    "y = SX.sym(\"y\",5)\n",
    "print(y)"
   ]
  },
  {
   "cell_type": "markdown",
   "metadata": {
    "colab_type": "text",
    "graffitiCellId": "id_nan7frd",
    "id": "gI6zQtuqFWf8"
   },
   "source": [
    "More information about CasADi in general and the available operations in particular can be found in this [List of Operations in CasADi](https://web.casadi.org/docs/#list-of-operations).\n"
   ]
  },
  {
   "cell_type": "code",
   "execution_count": 5,
   "metadata": {
    "colab": {
     "base_uri": "https://localhost:8080/",
     "height": 34
    },
    "colab_type": "code",
    "graffitiCellId": "id_zcptipc",
    "id": "vV48iFk5dRN1",
    "outputId": "1c429818-3370-4993-d02e-33dadf02acdc"
   },
   "outputs": [
    {
     "data": {
      "text/plain": [
       "Function(my_fun:(i0)->(o0) SXFunction)"
      ]
     },
     "execution_count": 5,
     "metadata": {},
     "output_type": "execute_result"
    }
   ],
   "source": [
    "# Define a CasADi function\n",
    "my_fun = Function('my_fun',[x],[x**2+5])\n",
    "my_fun"
   ]
  },
  {
   "cell_type": "markdown",
   "metadata": {
    "colab_type": "text",
    "graffitiCellId": "id_9av73u5",
    "id": "SliObKhsFy_F"
   },
   "source": [
    "The printed output reveals some information about the function: We have one input i0 and one output o0. We can also see that both input and output are scalar values, as CasADi would indicate vectors / matrices with their respective dimensions, e.g.:\n",
    "```\n",
    "Function(my_fun:(i0[3])->(o0) SXFunction)\n",
    "```\n",
    "\n",
    "Of course we can evaluate our function. The most straight-forward way to do so is to call it with a numerical input, e.g.:"
   ]
  },
  {
   "cell_type": "code",
   "execution_count": 9,
   "metadata": {
    "colab": {
     "base_uri": "https://localhost:8080/",
     "height": 34
    },
    "colab_type": "code",
    "graffitiCellId": "id_wwiji31",
    "id": "sXiGrSAXebpg",
    "outputId": "c2fd9758-db2d-4078-8901-ed84105cf83b"
   },
   "outputs": [
    {
     "data": {
      "text/plain": [
       "DM(105)"
      ]
     },
     "execution_count": 9,
     "metadata": {},
     "output_type": "execute_result"
    }
   ],
   "source": [
    "# Evaluate your function numerically\n",
    "my_fun(10)"
   ]
  },
  {
   "cell_type": "markdown",
   "metadata": {
    "colab_type": "text",
    "graffitiCellId": "id_u9x5nyy",
    "id": "B2UfFF_OHE-o"
   },
   "source": [
    "Note that DM is the CasADi data type for numerical values. Further information can be found [here](https://web.casadi.org/docs/#dm). \n",
    "Sometimes it can be important to convert this back to the numpy format with:\n",
    "\n",
    "\n",
    "```\n",
    "DM(105).full()\n",
    "```\n",
    "Feel free to try this method with the function output above.\n",
    "\n",
    "\n",
    "As we will see for the MPC application later, it is even more useful to evaluate the above function symbolically. This is also straight-forward:\n",
    "\n"
   ]
  },
  {
   "cell_type": "code",
   "execution_count": 7,
   "metadata": {
    "colab": {
     "base_uri": "https://localhost:8080/",
     "height": 34
    },
    "colab_type": "code",
    "graffitiCellId": "id_97mdn1l",
    "id": "LSa6k9UwdmIo",
    "outputId": "4780e1f3-400e-430f-a9f8-54e4940435e0"
   },
   "outputs": [
    {
     "data": {
      "text/plain": [
       "SX((sq(x)+5))"
      ]
     },
     "execution_count": 7,
     "metadata": {},
     "output_type": "execute_result"
    }
   ],
   "source": [
    "# Evaluate your function symbolically\n",
    "my_fun(x)"
   ]
  },
  {
   "cell_type": "markdown",
   "metadata": {
    "graffitiCellId": "id_4hpz5ul"
   },
   "source": [
    "### <span class=\"graffiti-highlight graffiti-id_4hpz5ul-id_2p8xkof\"><i></i>Symbolic arrays</span>\n",
    "CasADi fully supports vectors and matrices, which can be created like this:"
   ]
  },
  {
   "cell_type": "code",
   "execution_count": 10,
   "metadata": {
    "graffitiCellId": "id_fwzm9bi",
    "scrolled": true
   },
   "outputs": [
    {
     "name": "stdout",
     "output_type": "stream",
     "text": [
      "(4, 1)\n",
      "(4, 4)\n"
     ]
    }
   ],
   "source": [
    "vector = SX.sym('vector', 4,1)\n",
    "matrix = SX.sym('matrix', 4,4)\n",
    "\n",
    "print(vector.shape)\n",
    "print(matrix.shape)"
   ]
  },
  {
   "cell_type": "markdown",
   "metadata": {
    "graffitiCellId": "id_757warq"
   },
   "source": [
    "Everything can be indexed similar to Numpy:"
   ]
  },
  {
   "cell_type": "code",
   "execution_count": 11,
   "metadata": {
    "graffitiCellId": "id_ap3rpzh"
   },
   "outputs": [
    {
     "data": {
      "text/plain": [
       "SX([v_0, v_1])"
      ]
     },
     "execution_count": 11,
     "metadata": {},
     "output_type": "execute_result"
    }
   ],
   "source": [
    "v = SX.sym('v', 4)\n",
    "\n",
    "v[0:2]"
   ]
  },
  {
   "cell_type": "markdown",
   "metadata": {
    "graffitiCellId": "id_dbnedz6"
   },
   "source": [
    "Sometimes we need to concatenate arrays:"
   ]
  },
  {
   "cell_type": "code",
   "execution_count": 12,
   "metadata": {
    "graffitiCellId": "id_mx1lg7w"
   },
   "outputs": [
    {
     "data": {
      "text/plain": [
       "SX([v_0, v_1, v_2, v_3, w_0, w_1, w_2, w_3])"
      ]
     },
     "execution_count": 12,
     "metadata": {},
     "output_type": "execute_result"
    }
   ],
   "source": [
    "w = SX.sym('w', 4)\n",
    "\n",
    "vertcat(v,w)"
   ]
  },
  {
   "cell_type": "code",
   "execution_count": 13,
   "metadata": {
    "graffitiCellId": "id_42xpi0g"
   },
   "outputs": [
    {
     "data": {
      "text/plain": [
       "SX(\n",
       "[[v_0, w_0], \n",
       " [v_1, w_1], \n",
       " [v_2, w_2], \n",
       " [v_3, w_3]])"
      ]
     },
     "execution_count": 13,
     "metadata": {},
     "output_type": "execute_result"
    }
   ],
   "source": [
    "horzcat(v,w)"
   ]
  },
  {
   "cell_type": "markdown",
   "metadata": {
    "graffitiCellId": "id_om90urd"
   },
   "source": [
    "The difference is the resulting shape:"
   ]
  },
  {
   "cell_type": "code",
   "execution_count": 14,
   "metadata": {
    "graffitiCellId": "id_zt2fyhr"
   },
   "outputs": [
    {
     "data": {
      "text/plain": [
       "(8, 1)"
      ]
     },
     "execution_count": 14,
     "metadata": {},
     "output_type": "execute_result"
    }
   ],
   "source": [
    "vertcat(v,w).shape"
   ]
  },
  {
   "cell_type": "code",
   "execution_count": 15,
   "metadata": {
    "graffitiCellId": "id_az0ezkv"
   },
   "outputs": [
    {
     "data": {
      "text/plain": [
       "(4, 2)"
      ]
     },
     "execution_count": 15,
     "metadata": {},
     "output_type": "execute_result"
    }
   ],
   "source": [
    "horzcat(v,w).shape"
   ]
  },
  {
   "cell_type": "markdown",
   "metadata": {
    "colab_type": "text",
    "graffitiCellId": "id_uhu8eke",
    "id": "boRsZW_TUkdb"
   },
   "source": [
    "## Task 01: Working with symbolic expressions\n",
    "One of the main perks of working with symbolic CasADi expressions is the possibility to obtain exact derivatives of arbitrary expressions with **Automatic Differentiation** (AD).\n",
    "\n",
    "1. Create a nested expression in a loop, where $$y_{k+1}=y_{k}\\cdot sin(y_k)$$ and $y_0 = x$ for $k=0\\dots10$. In the end you have a scalar expression: $$y_{10}=f(x)$$\n",
    "2. Print the expression y and investigate the output. Do you recognize the intermediate variables that are typical for the AD expression graph?\n"
   ]
  },
  {
   "cell_type": "code",
   "execution_count": 45,
   "metadata": {
    "colab": {
     "base_uri": "https://localhost:8080/",
     "height": 34
    },
    "colab_type": "code",
    "graffitiCellId": "id_kypplhf",
    "id": "Fk-PltPaWv8n",
    "outputId": "70df171e-457a-4d61-d074-c04e872bea8b"
   },
   "outputs": [
    {
     "data": {
      "text/plain": [
       "SX(@1=(x*sin(x)), @2=(@1*sin(@1)), @3=(@2*sin(@2)), @4=(@3*sin(@3)), @5=(@4*sin(@4)), @6=(@5*sin(@5)), @7=(@6*sin(@6)), @8=(@7*sin(@7)), @9=(@8*sin(@8)), (@9*sin(@9)))"
      ]
     },
     "execution_count": 45,
     "metadata": {},
     "output_type": "execute_result"
    }
   ],
   "source": [
    "# Write your code here!\n",
    "y = SX.sym('x',1)\n",
    "sin_func = Function('sin_func',[y],[y*sin(y)])\n",
    "for k in range(11):\n",
    "    y = vertcat(y,nested_function(y[k]))\n",
    "\n",
    "y = y[10]\n",
    "y"
   ]
  },
  {
   "cell_type": "markdown",
   "metadata": {
    "graffitiCellId": "id_pghu298"
   },
   "source": [
    "<span class=\"graffiti-highlight graffiti-id_pghu298-id_z70w2h8\"><i></i><button>Hide Solution</button></span>"
   ]
  },
  {
   "cell_type": "code",
   "execution_count": 60,
   "metadata": {
    "graffitiCellId": "id_z70w2h8"
   },
   "outputs": [
    {
     "name": "stdout",
     "output_type": "stream",
     "text": [
      "@1=(x*sin(x)), @2=(@1*sin(@1)), @3=(@2*sin(@2)), @4=(@3*sin(@3)), @5=(@4*sin(@4)), @6=(@5*sin(@5)), @7=(@6*sin(@6)), @8=(@7*sin(@7)), @9=(@8*sin(@8)), (@9*sin(@9))\n"
     ]
    }
   ],
   "source": [
    "x = SX.sym('x')\n",
    "y = x\n",
    "for k in range(10):\n",
    "    y = y*np.sin(y)\n",
    "print(y)\n"
   ]
  },
  {
   "cell_type": "markdown",
   "metadata": {
    "colab_type": "text",
    "graffitiCellId": "id_5lcdsjs",
    "id": "3DelriuhXrtc"
   },
   "source": [
    "3. Create a CasADi Function from this expression.\n",
    "4. Use a simple numerical differentiation scheme such as:\n",
    "$$ f'(x_0)\\approx \\frac{f(x_0+h)-f(x_0)}{h} $$\n",
    "to determine the derivative for $x_0=7$ (what is the first number that comes to your mind??). See for example how the result changes with values of $h$, such as 1e-2, 1e-6, 1e-12, 1e-15, 1e-16"
   ]
  },
  {
   "cell_type": "code",
   "execution_count": 61,
   "metadata": {
    "graffitiCellId": "id_iwu38kq"
   },
   "outputs": [
    {
     "name": "stdout",
     "output_type": "stream",
     "text": [
      "1.17339\n",
      "-540.778\n",
      "-1781.12\n",
      "-1779.78\n",
      "-1627.14\n",
      "0\n"
     ]
    }
   ],
   "source": [
    "# Write your code here!\n",
    "der_func = Function('der_func', [x], [y])\n",
    "print(der_func(7))\n",
    "x_0 = 7\n",
    "h_s = [1e-2, 1e-6, 1e-12, 1e-15, 1e-16]\n",
    "for h in h_s:\n",
    "    der = (der_func(x_0+h) - der_func(x_0))/h\n",
    "    print(der)\n"
   ]
  },
  {
   "cell_type": "markdown",
   "metadata": {
    "graffitiCellId": "id_pgkldsg"
   },
   "source": [
    "<span class=\"graffiti-highlight graffiti-id_pgkldsg-id_pxu3rv8\"><i></i><button>Hide Solution</button></span>"
   ]
  },
  {
   "cell_type": "code",
   "execution_count": 53,
   "metadata": {
    "graffitiCellId": "id_pxu3rv8"
   },
   "outputs": [],
   "source": [
    "my_fun = Function('my_fun',[x],[y])\n",
    "h_list = [1e-2, 1e-6,  1e-12, 1e-15, 1e-16]\n",
    "x0 = 7\n",
    "for h in h_list:\n",
    "    dy = (my_fun(x0+h)-my_fun(x0))/h\n",
    "    print(dy)\n"
   ]
  },
  {
   "cell_type": "markdown",
   "metadata": {
    "colab_type": "text",
    "graffitiCellId": "id_q9tnyys",
    "id": "XtNRCG3ZZTP2"
   },
   "source": [
    "Note how very different results are obtained. Also very small values of $h$ can create signifcant problems due to computer accuracy.\n",
    "\n",
    "4. Now use AD to determine the gradient of the expression. See the [CasADi guide ](https://web.casadi.org/docs/#calculus-algorithmic-differentiation) for help.\n",
    "5. Print the result again. Note that the resulting expression is much longer but still managable."
   ]
  },
  {
   "cell_type": "code",
   "execution_count": 70,
   "metadata": {
    "graffitiCellId": "id_sy7pcmx"
   },
   "outputs": [
    {
     "name": "stdout",
     "output_type": "stream",
     "text": [
      "@1=sin(x), @2=(x*@1), @3=sin(@2), @4=(@2*@3), @5=sin(@4), @6=(@4*@5), @7=sin(@6), @8=(@6*@7), @9=sin(@8), @10=(@8*@9), @11=sin(@10), @12=(@10*@11), @13=sin(@12), @14=(@12*@13), @15=sin(@14), @16=(@14*@15), @17=sin(@16), @18=(@16*@17), @19=(sin(@18)+(cos(@18)*@18)), @20=((@17*@19)+(cos(@16)*(@16*@19))), @21=((@15*@20)+(cos(@14)*(@14*@20))), @22=((@13*@21)+(cos(@12)*(@12*@21))), @23=((@11*@22)+(cos(@10)*(@10*@22))), @24=((@9*@23)+(cos(@8)*(@8*@23))), @25=((@7*@24)+(cos(@6)*(@6*@24))), @26=((@5*@25)+(cos(@4)*(@4*@25))), @27=((@3*@26)+(cos(@2)*(@2*@26))), ((@1*@27)+(cos(x)*(x*@27)))\n"
     ]
    }
   ],
   "source": [
    "# Write your code here!\n",
    "grad_y = gradient(y,x)\n",
    "print(grad_y)"
   ]
  },
  {
   "cell_type": "markdown",
   "metadata": {
    "graffitiCellId": "id_zzn5cen"
   },
   "source": [
    "<span class=\"graffiti-highlight graffiti-id_zzn5cen-id_3ouqpek\"><i></i><button>Show Solution</button></span>"
   ]
  },
  {
   "cell_type": "markdown",
   "metadata": {
    "colab_type": "text",
    "graffitiCellId": "id_dxqayge",
    "id": "krEOJ4qyZ4rZ"
   },
   "source": [
    "6. Create a CasADi Function from this expression and evaluate it for the same $x_0$ value:"
   ]
  },
  {
   "cell_type": "code",
   "execution_count": 72,
   "metadata": {
    "graffitiCellId": "id_x96c72d"
   },
   "outputs": [
    {
     "data": {
      "text/plain": [
       "DM(-1779.57)"
      ]
     },
     "execution_count": 72,
     "metadata": {},
     "output_type": "execute_result"
    }
   ],
   "source": [
    "# Write your code here!\n",
    "grad_fun = Function('grad_fun',[x],[grad_y])\n",
    "grad_fun(x_0)"
   ]
  },
  {
   "cell_type": "markdown",
   "metadata": {
    "graffitiCellId": "id_gixuwsc"
   },
   "source": [
    "<span class=\"graffiti-highlight graffiti-id_gixuwsc-id_vophx30\"><i></i><button>Hide Solution</button></span>"
   ]
  },
  {
   "cell_type": "code",
   "execution_count": null,
   "metadata": {
    "graffitiCellId": "id_vophx30"
   },
   "outputs": [],
   "source": [
    "dy_fun = Function('dy',[x],[dy])\n",
    "\n",
    "dy_fun(x0)\n"
   ]
  },
  {
   "cell_type": "markdown",
   "metadata": {
    "colab_type": "text",
    "graffitiCellId": "id_j0pkoni",
    "id": "8FHFiMNSasSx"
   },
   "source": [
    "**Optional Task:** Time the execution time of the two different methods. <br>\n",
    "This can be done easily in this notebook by adding the **%%timeit** expression to any block of code, e.g.:\n",
    "\n",
    "\n",
    "```python\n",
    "%% timeit\n",
    "for i in range(10000):\n",
    "  i**2\n",
    "```\n",
    "Apart from the accuracy problems shown above we also notice that CasADi performs the desired operation significantly faster."
   ]
  },
  {
   "cell_type": "code",
   "execution_count": 91,
   "metadata": {
    "graffitiCellId": "id_fdwep1a"
   },
   "outputs": [
    {
     "name": "stdout",
     "output_type": "stream",
     "text": [
      "30.7 µs ± 3.31 µs per loop (mean ± std. dev. of 7 runs, 10000 loops each)\n"
     ]
    }
   ],
   "source": [
    "%%timeit\n",
    "# Write your code here! (optional)\n",
    "\n",
    "dy = (my_fun(x0+h_s[3])-my_fun(x0))/h_s[3]"
   ]
  },
  {
   "cell_type": "markdown",
   "metadata": {
    "graffitiCellId": "id_6x9y4dk"
   },
   "source": [
    "<span class=\"graffiti-highlight graffiti-id_6x9y4dk-id_ycyd6eg\"><i></i><button>Hide Solution</button></span>"
   ]
  },
  {
   "cell_type": "code",
   "execution_count": 89,
   "metadata": {
    "graffitiCellId": "id_ycyd6eg"
   },
   "outputs": [
    {
     "name": "stdout",
     "output_type": "stream",
     "text": [
      "8.32 µs ± 577 ns per loop (mean ± std. dev. of 7 runs, 100000 loops each)\n"
     ]
    }
   ],
   "source": [
    "%%timeit\n",
    "dy_fun(x0)"
   ]
  },
  {
   "cell_type": "code",
   "execution_count": 92,
   "metadata": {
    "graffitiCellId": "id_3kyf13s"
   },
   "outputs": [
    {
     "name": "stdout",
     "output_type": "stream",
     "text": [
      "7.83 µs ± 248 ns per loop (mean ± std. dev. of 7 runs, 100000 loops each)\n"
     ]
    }
   ],
   "source": [
    "%%timeit\n",
    "# Write your code here! (optional)\n",
    "\n",
    "grad_fun(x_0)"
   ]
  },
  {
   "cell_type": "markdown",
   "metadata": {
    "graffitiCellId": "id_oi1k9g3"
   },
   "source": [
    "<span class=\"graffiti-highlight graffiti-id_oi1k9g3-id_5cv2sjr\"><i></i><button>Show Solution</button></span>"
   ]
  },
  {
   "cell_type": "markdown",
   "metadata": {
    "graffitiCellId": "id_vjaiqxv"
   },
   "source": [
    "## <span class=\"graffiti-highlight graffiti-id_vjaiqxv-id_ipqq4rq\"><i></i>Symbolic vs. automatic differentiation</span>\n",
    "\n",
    "Obtaining derivates is essential for fast optimization and you have explored two methods above:\n",
    "1. numerical differentiation\n",
    "2. automatic differentiation (AD)\n",
    "\n",
    "Most likely, you will be familiar with numerical differentation and are just learning about AD. \n",
    "Of course, you already know about symbolic differentiation, which is a third way to obtain derivatives.\n",
    "What we mean by symbolic is simply: Apply derivative rules and obtain a new expression, e.g.:\n",
    "\n",
    "$$\n",
    "f(x) = x^3 + sin(x)\\\\\n",
    "f'(x) = 3x^2 + cos(x)\n",
    "$$\n",
    "\n",
    "**This is not the same as automatic differentation!!**\n",
    "\n",
    "With AD you will never obtain an explicit expression to obtain the derivative of a function. \n",
    "AD will rather give you an expression graph to evaluate the derivative of the function,\n",
    "such that we can calculate\n",
    "\n",
    "$$\n",
    "f'(7) = 147.7539022543433\n",
    "$$\n",
    "\n",
    "There are also tools to perform symbolic differentiation, e.g. **Sympy** in Python. However, they will be insanely inefficient for the task presented above as is shown in the quick example below.\n",
    "\n",
    "We first create the same expression, now with Sympy symbolic variables."
   ]
  },
  {
   "cell_type": "code",
   "execution_count": 93,
   "metadata": {
    "graffitiCellId": "id_oqagoaa"
   },
   "outputs": [
    {
     "name": "stdout",
     "output_type": "stream",
     "text": [
      "x*sin(x)*sin(x*sin(x))*sin(x*sin(x)*sin(x*sin(x)))*sin(x*sin(x)*sin(x*sin(x))*sin(x*sin(x)*sin(x*sin(x))))\n"
     ]
    }
   ],
   "source": [
    "import sympy as sym\n",
    "\n",
    "# Same as above now with Sympy library for symbolic variables.\n",
    "x_sym = sym.symbols('x')\n",
    "y_sym = x_sym\n",
    "\n",
    "# Loop only until 4 ... otherwise the expression \"explodes\"\n",
    "for k in range(4):\n",
    "    y_sym = y_sym*sym.sin(y_sym)\n",
    "\n",
    "print(y_sym)"
   ]
  },
  {
   "cell_type": "markdown",
   "metadata": {
    "graffitiCellId": "id_ciwzmpi"
   },
   "source": [
    "Note that we had to restrain ourselves and create a less nested expression (loop until 4). You will see in a second why that is the case.\n",
    "For this expresssion we can now obtain the derivative:"
   ]
  },
  {
   "cell_type": "code",
   "execution_count": 94,
   "metadata": {
    "graffitiCellId": "id_94ancf8"
   },
   "outputs": [
    {
     "name": "stdout",
     "output_type": "stream",
     "text": [
      "x*(x*cos(x) + sin(x))*sin(x)*sin(x*sin(x)*sin(x*sin(x)))*sin(x*sin(x)*sin(x*sin(x))*sin(x*sin(x)*sin(x*sin(x))))*cos(x*sin(x)) + x*(x*(x*cos(x) + sin(x))*sin(x)*cos(x*sin(x)) + x*sin(x*sin(x))*cos(x) + sin(x)*sin(x*sin(x)))*sin(x)*sin(x*sin(x))*sin(x*sin(x)*sin(x*sin(x))*sin(x*sin(x)*sin(x*sin(x))))*cos(x*sin(x)*sin(x*sin(x))) + x*(x*(x*cos(x) + sin(x))*sin(x)*sin(x*sin(x)*sin(x*sin(x)))*cos(x*sin(x)) + x*(x*(x*cos(x) + sin(x))*sin(x)*cos(x*sin(x)) + x*sin(x*sin(x))*cos(x) + sin(x)*sin(x*sin(x)))*sin(x)*sin(x*sin(x))*cos(x*sin(x)*sin(x*sin(x))) + x*sin(x*sin(x))*sin(x*sin(x)*sin(x*sin(x)))*cos(x) + sin(x)*sin(x*sin(x))*sin(x*sin(x)*sin(x*sin(x))))*sin(x)*sin(x*sin(x))*sin(x*sin(x)*sin(x*sin(x)))*cos(x*sin(x)*sin(x*sin(x))*sin(x*sin(x)*sin(x*sin(x)))) + x*sin(x*sin(x))*sin(x*sin(x)*sin(x*sin(x)))*sin(x*sin(x)*sin(x*sin(x))*sin(x*sin(x)*sin(x*sin(x))))*cos(x) + sin(x)*sin(x*sin(x))*sin(x*sin(x)*sin(x*sin(x)))*sin(x*sin(x)*sin(x*sin(x))*sin(x*sin(x)*sin(x*sin(x))))\n"
     ]
    }
   ],
   "source": [
    "dy_sym = sym.diff(y_sym,x_sym)\n",
    "print(dy_sym)"
   ]
  },
  {
   "cell_type": "markdown",
   "metadata": {
    "graffitiCellId": "id_ulbvak9"
   },
   "source": [
    "Product rule and chain rule have created a monster in that case. This would have been book filling if we had looped until 10 ..."
   ]
  },
  {
   "cell_type": "code",
   "execution_count": 95,
   "metadata": {
    "graffitiCellId": "id_qhxzuxy"
   },
   "outputs": [
    {
     "name": "stdout",
     "output_type": "stream",
     "text": [
      "23.3 ms ± 1.84 ms per loop (mean ± std. dev. of 7 runs, 10 loops each)\n"
     ]
    }
   ],
   "source": [
    "%%timeit\n",
    "res = dy_sym.subs(x_sym, 7).evalf()"
   ]
  },
  {
   "cell_type": "markdown",
   "metadata": {
    "graffitiCellId": "id_qffyolk"
   },
   "source": [
    "Not surprisingly, evaluating the expression is extremely slow and again: It is still considerably less complex than what we had before."
   ]
  },
  {
   "cell_type": "markdown",
   "metadata": {
    "graffitiCellId": "id_slc4sn4"
   },
   "source": [
    "## <span class=\"graffiti-highlight graffiti-id_slc4sn4-id_qb7h72a\"><i></i>Task 02: Optimization problem with CasADi and Ipopt</span>\n",
    "You have learned how to work with symbolic expression.These symbolic expressions can be used to formulate an optimization problem.\n",
    "In the following you will be using the solver **nlpsol** with **ipopt** which is implemented in CasADi to solve the simple optimization problem:\n",
    "\n",
    "$$\n",
    "\\min_x \\quad x^2-5x+9\\\\\n",
    "\\text{s.t.} \\quad x\\leq -5\n",
    "$$\n",
    "\n",
    "1. Create a new symbolic variable `x` and write the cost function (`y`) in terms of `x`.\n",
    "2. Create a CasADi `Function` that takes as input `x` and returns `y`. The function should be called `y_fun`."
   ]
  },
  {
   "cell_type": "code",
   "execution_count": 102,
   "metadata": {
    "graffitiCellId": "id_pcbejqp"
   },
   "outputs": [
    {
     "data": {
      "text/plain": [
       "DM(15)"
      ]
     },
     "execution_count": 102,
     "metadata": {},
     "output_type": "execute_result"
    }
   ],
   "source": [
    "# Your code here!\n",
    "x = SX.sym('x')\n",
    "y = x**2 - 5*x + 9\n",
    "cost_func = Function(\"cost_func\", [x], [y])\n"
   ]
  },
  {
   "cell_type": "markdown",
   "metadata": {
    "graffitiCellId": "id_zc92iz9"
   },
   "source": [
    "<span class=\"graffiti-highlight graffiti-id_zc92iz9-id_6jynyim\"><i></i><button>Hide Solution</button></span>"
   ]
  },
  {
   "cell_type": "code",
   "execution_count": 115,
   "metadata": {
    "graffitiCellId": "id_6jynyim"
   },
   "outputs": [],
   "source": [
    "x = SX.sym('x')\n",
    "y = x**2 - 5*x + 9\n",
    "\n",
    "y_fun = Function('y', [x], [y])\n"
   ]
  },
  {
   "cell_type": "markdown",
   "metadata": {
    "graffitiCellId": "id_q4hsa9j"
   },
   "source": [
    "3. Evaluate your function in the range of $x=[-10,10]$. Name the input `x_num` and the resulting output `y_num`."
   ]
  },
  {
   "cell_type": "code",
   "execution_count": 104,
   "metadata": {
    "graffitiCellId": "id_5yy40r8"
   },
   "outputs": [
    {
     "name": "stdout",
     "output_type": "stream",
     "text": [
      "[159, 148.963, 139.258, 129.887, 120.849, 112.145, 103.773, 95.7347, 88.0296, 80.6576, 73.6189, 66.9134, 60.541, 54.5019, 48.7959, 43.4232, 38.3836, 33.6772, 29.304, 25.2641, 21.5573, 18.1837, 15.1433, 12.4361, 10.0621, 8.02124, 6.31362, 4.93919, 3.89796, 3.18992, 2.81508, 2.77343, 3.06497, 3.68971, 4.64765, 5.93878, 7.5631, 9.52062, 11.8113, 14.4352, 17.3923, 20.6826, 24.3061, 28.2628, 32.5527, 37.1758, 42.132, 47.4215, 53.0441, 59]\n"
     ]
    }
   ],
   "source": [
    "# Your code here!\n",
    "x_num = np.linspace(-10,10)\n",
    "y_num = cost_func(x_num)\n",
    "print(y_num)"
   ]
  },
  {
   "cell_type": "markdown",
   "metadata": {
    "graffitiCellId": "id_922w89o"
   },
   "source": [
    "<span class=\"graffiti-highlight graffiti-id_922w89o-id_50bhdgr\"><i></i><button>Hide Solution</button></span>"
   ]
  },
  {
   "cell_type": "code",
   "execution_count": null,
   "metadata": {
    "graffitiCellId": "id_50bhdgr"
   },
   "outputs": [],
   "source": [
    "x_num = np.linspace(-10,10)\n",
    "y_num = y_fun(x_num)\n"
   ]
  },
  {
   "cell_type": "markdown",
   "metadata": {
    "graffitiCellId": "id_z5nn3bn"
   },
   "source": [
    "We quickly visualize the function and the constraint:"
   ]
  },
  {
   "cell_type": "code",
   "execution_count": 105,
   "metadata": {
    "graffitiCellId": "id_dxy1m8k",
    "scrolled": true
   },
   "outputs": [
    {
     "data": {
      "text/plain": [
       "<matplotlib.lines.Line2D at 0x7fcf484c0f10>"
      ]
     },
     "execution_count": 105,
     "metadata": {},
     "output_type": "execute_result"
    },
    {
     "data": {
      "image/png": "[encoded data removed]",
      "text/plain": [
       "<Figure size 432x288 with 1 Axes>"
      ]
     },
     "metadata": {
      "needs_background": "light"
     },
     "output_type": "display_data"
    }
   ],
   "source": [
    "fig, ax = plt.subplots()\n",
    "\n",
    "# Function\n",
    "ax.plot(x_num, y_num)\n",
    "\n",
    "# Constraint\n",
    "ubx = -5\n",
    "ax.axvline(ubx)"
   ]
  },
  {
   "cell_type": "markdown",
   "metadata": {
    "graffitiCellId": "id_mi16fce"
   },
   "source": [
    "5. We now want to solve the problem shown above using CasADi [nlpsol](https://web.casadi.org/docs/#creating-nlp-solvers). Please investigate the CasADi documentation and create the problem.\n",
    "\n",
    "Note that we are not solving the problem yet."
   ]
  },
  {
   "cell_type": "code",
   "execution_count": 118,
   "metadata": {
    "graffitiCellId": "id_5l2j1cf"
   },
   "outputs": [],
   "source": [
    "# Write your code here!\n",
    "nlp = {'x':x, 'f':y}\n",
    "solver = nlpsol('solver', 'ipopt', nlp)"
   ]
  },
  {
   "cell_type": "markdown",
   "metadata": {
    "graffitiCellId": "id_b43xnpm"
   },
   "source": [
    "<span class=\"graffiti-highlight graffiti-id_b43xnpm-id_geuc8sk\"><i></i><button>Hide Solution</button></span>"
   ]
  },
  {
   "cell_type": "code",
   "execution_count": 119,
   "metadata": {
    "graffitiCellId": "id_geuc8sk"
   },
   "outputs": [],
   "source": [
    "# Define the problem\n",
    "prob = {'x':x, 'f':y}\n",
    "# Get a configure solver instance\n",
    "solver = nlpsol('solver','ipopt',prob)\n"
   ]
  },
  {
   "cell_type": "markdown",
   "metadata": {
    "graffitiCellId": "id_3eqcpo1"
   },
   "source": [
    "Quickly investigate the solver object:"
   ]
  },
  {
   "cell_type": "code",
   "execution_count": 120,
   "metadata": {
    "graffitiCellId": "id_6g2abpz"
   },
   "outputs": [
    {
     "name": "stdout",
     "output_type": "stream",
     "text": [
      "solver:(x0,p[],lbx,ubx,lbg[0],ubg[0],lam_x0,lam_g0[0])->(x,f,g[0],lam_x,lam_g[0],lam_p[]) IpoptInterface\n"
     ]
    }
   ],
   "source": [
    "print(solver)"
   ]
  },
  {
   "cell_type": "markdown",
   "metadata": {
    "graffitiCellId": "id_ghn76mu"
   },
   "source": [
    "We see that it is similar to a regular CasADi function, e.g.:"
   ]
  },
  {
   "cell_type": "code",
   "execution_count": 116,
   "metadata": {
    "graffitiCellId": "id_s4bgv8y",
    "scrolled": true
   },
   "outputs": [
    {
     "data": {
      "text/plain": [
       "Function(y:(i0)->(o0) SXFunction)"
      ]
     },
     "execution_count": 116,
     "metadata": {},
     "output_type": "execute_result"
    }
   ],
   "source": [
    "y_fun"
   ]
  },
  {
   "cell_type": "markdown",
   "metadata": {
    "graffitiCellId": "id_idus20h"
   },
   "source": [
    "The optimizer takes the following important inputs:\n",
    "- `x0`: The initial guess\n",
    "- `p`: Parameter of the optimization problem (we have none here).\n",
    "- `lbx`, `ubx`: Lower and upper bound of the optimization variable `x`.\n",
    "- `lbg`, `ubg`: Lower and upper bound of additional constraints `g` (we have none here)\n",
    "\n",
    "and returns (in a dictionary)\n",
    "- `x`: The optimal value of the optimization variables.\n",
    "- `f`: The optimal cost of the objective function."
   ]
  },
  {
   "cell_type": "markdown",
   "metadata": {
    "graffitiCellId": "id_mqivs6r"
   },
   "source": [
    "6. Solve the optimization problem. Use an initial guess and the previously defined upper bound for x (`ubx`)."
   ]
  },
  {
   "cell_type": "code",
   "execution_count": 125,
   "metadata": {
    "graffitiCellId": "id_p8mgpfy"
   },
   "outputs": [
    {
     "name": "stdout",
     "output_type": "stream",
     "text": [
      "This is Ipopt version 3.12.3, running with linear solver mumps.\n",
      "NOTE: Other linear solvers might be more efficient (see Ipopt documentation).\n",
      "\n",
      "Number of nonzeros in equality constraint Jacobian...:        0\n",
      "Number of nonzeros in inequality constraint Jacobian.:        0\n",
      "Number of nonzeros in Lagrangian Hessian.............:        1\n",
      "\n",
      "Total number of variables............................:        1\n",
      "                     variables with only lower bounds:        0\n",
      "                variables with lower and upper bounds:        0\n",
      "                     variables with only upper bounds:        1\n",
      "Total number of equality constraints.................:        0\n",
      "Total number of inequality constraints...............:        0\n",
      "        inequality constraints with only lower bounds:        0\n",
      "   inequality constraints with lower and upper bounds:        0\n",
      "        inequality constraints with only upper bounds:        0\n",
      "\n",
      "iter    objective    inf_pr   inf_du lg(mu)  ||d||  lg(rg) alpha_du alpha_pr  ls\n",
      "   0  9.3000000e+01 0.00e+00 1.80e+01  -1.0 0.00e+00    -  0.00e+00 0.00e+00   0\n",
      "   1  5.9300399e+01 0.00e+00 1.12e+01  -1.0 7.58e+00    -  1.00e+00 2.61e-01f  1\n",
      "   2  5.9151601e+01 0.00e+00 8.37e-02  -1.0 5.18e-02    -  1.00e+00 1.91e-01f  2\n",
      "   3  5.9002193e+01 0.00e+00 2.83e-08  -2.5 9.95e-03    -  1.00e+00 1.00e+00f  1\n",
      "   4  5.9000150e+01 0.00e+00 1.50e-09  -3.8 1.36e-04    -  1.00e+00 1.00e+00f  1\n",
      "   5  5.9000001e+01 0.00e+00 1.84e-11  -5.7 9.91e-06    -  1.00e+00 1.00e+00f  1\n",
      "   6  5.8999999e+01 0.00e+00 2.49e-14  -8.6 1.23e-07    -  1.00e+00 1.00e+00f  1\n",
      "\n",
      "Number of Iterations....: 6\n",
      "\n",
      "                                   (scaled)                 (unscaled)\n",
      "Objective...............:   5.8999999252505937e+01    5.8999999252505937e+01\n",
      "Dual infeasibility......:   2.4868995751603507e-14    2.4868995751603507e-14\n",
      "Constraint violation....:   0.0000000000000000e+00    0.0000000000000000e+00\n",
      "Complementarity.........:   2.5059287811520577e-09    2.5059287811520577e-09\n",
      "Overall NLP error.......:   2.5059287811520577e-09    2.5059287811520577e-09\n",
      "\n",
      "\n",
      "Number of objective function evaluations             = 12\n",
      "Number of objective gradient evaluations             = 7\n",
      "Number of equality constraint evaluations            = 0\n",
      "Number of inequality constraint evaluations          = 0\n",
      "Number of equality constraint Jacobian evaluations   = 0\n",
      "Number of inequality constraint Jacobian evaluations = 0\n",
      "Number of Lagrangian Hessian evaluations             = 6\n",
      "Total CPU secs in IPOPT (w/o function evaluations)   =      0.004\n",
      "Total CPU secs in NLP function evaluations           =      0.000\n",
      "\n",
      "EXIT: Optimal Solution Found.\n",
      "      solver  :   t_proc      (avg)   t_wall      (avg)    n_eval\n",
      "       nlp_f  |  42.00us (  3.50us)  39.68us (  3.31us)        12\n",
      "  nlp_grad_f  |  30.00us (  3.75us)  26.40us (  3.30us)         8\n",
      "  nlp_hess_l  |  19.00us (  3.17us)  17.44us (  2.91us)         6\n",
      "       total  |   4.71ms (  4.71ms)   4.55ms (  4.55ms)         1\n",
      "{'f': DM(59), 'g': DM([]), 'lam_g': DM([]), 'lam_p': DM([]), 'lam_x': DM(15), 'x': DM(-5)}\n"
     ]
    }
   ],
   "source": [
    "# Write your code here.\n",
    "res = solver(x0 = -7,ubx = ubx)\n",
    "print(res)"
   ]
  },
  {
   "cell_type": "markdown",
   "metadata": {
    "graffitiCellId": "id_plgz1jn"
   },
   "source": [
    "<span class=\"graffiti-highlight graffiti-id_plgz1jn-id_xyw7ncr\"><i></i><button>Hide Solution</button></span>"
   ]
  },
  {
   "cell_type": "code",
   "execution_count": 128,
   "metadata": {
    "graffitiCellId": "id_xyw7ncr"
   },
   "outputs": [
    {
     "name": "stdout",
     "output_type": "stream",
     "text": [
      "This is Ipopt version 3.12.3, running with linear solver mumps.\n",
      "NOTE: Other linear solvers might be more efficient (see Ipopt documentation).\n",
      "\n",
      "Number of nonzeros in equality constraint Jacobian...:        0\n",
      "Number of nonzeros in inequality constraint Jacobian.:        0\n",
      "Number of nonzeros in Lagrangian Hessian.............:        1\n",
      "\n",
      "Total number of variables............................:        1\n",
      "                     variables with only lower bounds:        0\n",
      "                variables with lower and upper bounds:        0\n",
      "                     variables with only upper bounds:        1\n",
      "Total number of equality constraints.................:        0\n",
      "Total number of inequality constraints...............:        0\n",
      "        inequality constraints with only lower bounds:        0\n",
      "   inequality constraints with lower and upper bounds:        0\n",
      "        inequality constraints with only upper bounds:        0\n",
      "\n",
      "iter    objective    inf_pr   inf_du lg(mu)  ||d||  lg(rg) alpha_du alpha_pr  ls\n",
      "   0  9.3000000e+01 0.00e+00 1.80e+01  -1.0 0.00e+00    -  0.00e+00 0.00e+00   0\n",
      "   1  5.9300399e+01 0.00e+00 1.12e+01  -1.0 7.58e+00    -  1.00e+00 2.61e-01f  1\n",
      "   2  5.9151601e+01 0.00e+00 8.37e-02  -1.0 5.18e-02    -  1.00e+00 1.91e-01f  2\n",
      "   3  5.9002193e+01 0.00e+00 2.83e-08  -2.5 9.95e-03    -  1.00e+00 1.00e+00f  1\n",
      "   4  5.9000150e+01 0.00e+00 1.50e-09  -3.8 1.36e-04    -  1.00e+00 1.00e+00f  1\n",
      "   5  5.9000001e+01 0.00e+00 1.84e-11  -5.7 9.91e-06    -  1.00e+00 1.00e+00f  1\n",
      "   6  5.8999999e+01 0.00e+00 2.49e-14  -8.6 1.23e-07    -  1.00e+00 1.00e+00f  1\n",
      "\n",
      "Number of Iterations....: 6\n",
      "\n",
      "                                   (scaled)                 (unscaled)\n",
      "Objective...............:   5.8999999252505937e+01    5.8999999252505937e+01\n",
      "Dual infeasibility......:   2.4868995751603507e-14    2.4868995751603507e-14\n",
      "Constraint violation....:   0.0000000000000000e+00    0.0000000000000000e+00\n",
      "Complementarity.........:   2.5059287811520577e-09    2.5059287811520577e-09\n",
      "Overall NLP error.......:   2.5059287811520577e-09    2.5059287811520577e-09\n",
      "\n",
      "\n",
      "Number of objective function evaluations             = 12\n",
      "Number of objective gradient evaluations             = 7\n",
      "Number of equality constraint evaluations            = 0\n",
      "Number of inequality constraint evaluations          = 0\n",
      "Number of equality constraint Jacobian evaluations   = 0\n",
      "Number of inequality constraint Jacobian evaluations = 0\n",
      "Number of Lagrangian Hessian evaluations             = 6\n",
      "Total CPU secs in IPOPT (w/o function evaluations)   =      0.005\n",
      "Total CPU secs in NLP function evaluations           =      0.000\n",
      "\n",
      "EXIT: Optimal Solution Found.\n",
      "      solver  :   t_proc      (avg)   t_wall      (avg)    n_eval\n",
      "       nlp_f  |  52.00us (  4.33us)  48.43us (  4.04us)        12\n",
      "  nlp_grad_f  |  31.00us (  3.88us)  28.84us (  3.60us)         8\n",
      "  nlp_hess_l  |  19.00us (  3.17us)  18.43us (  3.07us)         6\n",
      "       total  |   6.36ms (  6.36ms)   7.63ms (  7.63ms)         1\n"
     ]
    }
   ],
   "source": [
    "res = solver(x0=-7, ubx=ubx)\n"
   ]
  },
  {
   "cell_type": "markdown",
   "metadata": {
    "graffitiCellId": "id_1beb47b"
   },
   "source": [
    "7. Obtain the optimal value of `x` and `y` from the resulting dictionary. Call them `x_opt` and `y_opt`."
   ]
  },
  {
   "cell_type": "code",
   "execution_count": 129,
   "metadata": {
    "graffitiCellId": "id_22arviz"
   },
   "outputs": [
    {
     "name": "stdout",
     "output_type": "stream",
     "text": [
      "-5 59\n"
     ]
    }
   ],
   "source": [
    "# Write your code here.\n",
    "x_opt = res['x']\n",
    "y_opt = res['f']\n",
    "print(x_opt, y_opt)"
   ]
  },
  {
   "cell_type": "markdown",
   "metadata": {
    "graffitiCellId": "id_kan0wmb"
   },
   "source": [
    "<span class=\"graffiti-highlight graffiti-id_kan0wmb-id_31mg9wn\"><i></i><button>Show Solution</button></span>"
   ]
  },
  {
   "cell_type": "markdown",
   "metadata": {
    "graffitiCellId": "id_zpdxmzu"
   },
   "source": [
    "We can now plot the solution in the previously created diagram:"
   ]
  },
  {
   "cell_type": "code",
   "execution_count": 130,
   "metadata": {
    "graffitiCellId": "id_158dsv3"
   },
   "outputs": [
    {
     "data": {
      "image/png": "[encoded data removed]",
      "text/plain": [
       "<Figure size 432x288 with 1 Axes>"
      ]
     },
     "execution_count": 130,
     "metadata": {},
     "output_type": "execute_result"
    }
   ],
   "source": [
    "ax.plot(x_opt,y_opt, 'o', markersize=10)\n",
    "fig"
   ]
  },
  {
   "cell_type": "markdown",
   "metadata": {
    "colab_type": "text",
    "graffitiCellId": "id_49th6jz",
    "id": "rWoK-9cwegl3"
   },
   "source": [
    "## <span class=\"graffiti-highlight graffiti-id_49th6jz-id_rxsyktj\"><i></i>Task 03: Rectangle with largest area inside a polyhedron</span>"
   ]
  },
  {
   "cell_type": "markdown",
   "metadata": {
    "colab_type": "text",
    "graffitiCellId": "id_6x4owfa",
    "id": "PC0We3yq__la"
   },
   "source": [
    "After this first impressions on how to use CasADi for optimization, we will in this exercise work on a more challenging problem.\n",
    "\n",
    "Consider the problem of finding the rectangle with largest possible area $a$ that lies in a polyhedron described by a set of linear inequalities\n",
    "\n",
    "$$\\mathcal{P}(A,b) = \\{x\\in \\mathbb{R}^2|Ax \\leq b\\}.$$\n",
    "\n",
    "The rectangle is defined by \n",
    "\n",
    "$$\\mathcal{R}(l,u) = \\{x \\in \\mathbb{R}^2 \\, | \\, l\\leq x \\leq u,\\ l,u \\in \\mathbb{R}^2\\}.$$\n",
    "\n",
    "The side length is thus:\n",
    "\n",
    "$$\n",
    "a = u_0 - l_0\\\\\n",
    "b = u_1 - l_1\n",
    "$$\n",
    "\n",
    "and the area results in $A=a\\cdot b$.\n",
    "\n",
    "We consider the following polyhedron $\\mathcal{P}$:\n",
    "\\begin{align*}\n",
    "A=\\begin{bmatrix} \n",
    "                  2 & -4 \\\\\n",
    "                  2 & 1 \\\\\n",
    "                  -4 & 4 \\\\\n",
    "                  -4 & 0 \\end{bmatrix},\n",
    "                  \\qquad b = \\mathbf{1}.\n",
    "\\end{align*}\n",
    "\n",
    "**Hint.** If the corners of a box lie inside a polyhedron, the box does too.\n",
    "\n",
    "To help you visualize the problem, here is a plot of the polyhedron:"
   ]
  },
  {
   "cell_type": "code",
   "execution_count": 182,
   "metadata": {
    "graffitiCellId": "id_vot2r91",
    "scrolled": true
   },
   "outputs": [
    {
     "data": {
      "image/png": "[encoded data removed]",
      "text/plain": [
       "<Figure size 432x288 with 1 Axes>"
      ]
     },
     "metadata": {
      "needs_background": "light"
     },
     "output_type": "display_data"
    }
   ],
   "source": [
    "fig, ax = plt.subplots()\n",
    "\n",
    "# Plot polyhedron\n",
    "ax.plot([-1/4,-1/4],[-0.375, 0.0],'-k',linewidth=2)\n",
    "ax.plot([-0.25, 0.25],[0.0, 0.5],'-k',linewidth=2)\n",
    "ax.plot([0.25, 0.5],[0.5, 0.0],'-k',linewidth=2)\n",
    "ax.plot([0.5, -0.25],[0.0, -0.375],'-k',linewidth=2)\n",
    "plt.show()"
   ]
  },
  {
   "cell_type": "markdown",
   "metadata": {
    "graffitiCellId": "id_9z48spv"
   },
   "source": [
    "Of course you don't need to copy the parameters for the polyhedron. Here they are:"
   ]
  },
  {
   "cell_type": "code",
   "execution_count": 183,
   "metadata": {
    "graffitiCellId": "id_p91o1ez"
   },
   "outputs": [],
   "source": [
    "A = np.array([[ 2, -4],\n",
    "              [ 2,  1],\n",
    "              [-4,  4],\n",
    "              [-4,  0]])\n",
    "              \n",
    "b = np.ones((4,1))"
   ]
  },
  {
   "cell_type": "markdown",
   "metadata": {
    "graffitiCellId": "id_snjxhd9"
   },
   "source": [
    "1. Define the symbolic variables `l` und `u` for the rectangle $\\mathcal{R}(l,u)$.\n",
    "2. Use `l` und `u` to define the (4) edges of the rectangle."
   ]
  },
  {
   "cell_type": "code",
   "execution_count": 184,
   "metadata": {
    "graffitiCellId": "id_klw6ejc"
   },
   "outputs": [],
   "source": [
    "# Write your code here!\n",
    "l = SX.sym('l',2, 1)\n",
    "u = SX.sym('u',2, 1)\n",
    "\n",
    "x1 = l\n",
    "x2 = u\n",
    "x3 = vertcat(l[0], u[1])\n",
    "x4 = vertcat(u[0], l[1])\n"
   ]
  },
  {
   "cell_type": "markdown",
   "metadata": {
    "graffitiCellId": "id_jeu2tdv"
   },
   "source": [
    "<span class=\"graffiti-highlight graffiti-id_jeu2tdv-id_2o27jfl\"><i></i><button>Show Solution</button></span>"
   ]
  },
  {
   "cell_type": "markdown",
   "metadata": {
    "graffitiCellId": "id_d1k005v"
   },
   "source": [
    "3. Create an expression `g` that represents the polyhedron constraints $Ax\\leq b$. \n",
    "\n",
    "**Note**: Regardless how you create `g` it must be a vector in the end (of type `casadi.SX`).\n",
    "\n",
    "**Note**: Most likely you will need to use `vertcat` and/or `horzcat`."
   ]
  },
  {
   "cell_type": "code",
   "execution_count": 185,
   "metadata": {
    "graffitiCellId": "id_i93i56m"
   },
   "outputs": [],
   "source": [
    "# Write your code here!\n",
    "#x = SX.sym('x',2,1)\n",
    "#g = horzcat(A@x -b)\n",
    "#print(g)\n",
    "g = (A@horzcat(x1,x2,x3,x4)-b).reshape((-1,1))\n",
    "#reshape for horizontal"
   ]
  },
  {
   "cell_type": "markdown",
   "metadata": {
    "graffitiCellId": "id_aqk9ftl"
   },
   "source": [
    "<span class=\"graffiti-highlight graffiti-id_aqk9ftl-id_j1qrkvf\"><i></i><button>Hide Solution</button></span>"
   ]
  },
  {
   "cell_type": "code",
   "execution_count": 144,
   "metadata": {
    "graffitiCellId": "id_j1qrkvf"
   },
   "outputs": [
    {
     "data": {
      "text/plain": [
       "SX(@1=2, @2=-4, @3=1, @4=4, [(((@1*l_0)+(@2*l_1))-@3), (((@1*l_0)+l_1)-@3), (((@2*l_0)+(@4*l_1))-@3), ((@2*l_0)-@3), (((@1*u_0)+(@2*u_1))-@3), (((@1*u_0)+u_1)-@3), (((@2*u_0)+(@4*u_1))-@3), ((@2*u_0)-@3), (((@1*l_0)+(@2*u_1))-@3), (((@1*l_0)+u_1)-@3), (((@2*l_0)+(@4*u_1))-@3), ((@2*l_0)-@3), (((@1*u_0)+(@2*l_1))-@3), (((@1*u_0)+l_1)-@3), (((@2*u_0)+(@4*l_1))-@3), ((@2*u_0)-@3)])"
      ]
     },
     "execution_count": 144,
     "metadata": {},
     "output_type": "execute_result"
    }
   ],
   "source": [
    "# The polyhedron constraint:\n",
    "g = (A@horzcat(x1,x2,x3,x4)-b).reshape((-1,1))\n",
    "g"
   ]
  },
  {
   "cell_type": "markdown",
   "metadata": {
    "graffitiCellId": "id_j5vxym1"
   },
   "source": [
    "4. Write an expression `f` for the cost function (maximize the area of the rectangle) in terms of `l` und `u`.\n",
    "\n",
    "**Note:** The `nlpsol` interface is always used for a minimization problem. To maximize, we need to multiply our cost function with -1."
   ]
  },
  {
   "cell_type": "code",
   "execution_count": 186,
   "metadata": {
    "graffitiCellId": "id_vfpevvr"
   },
   "outputs": [],
   "source": [
    "# Write your code here!\n",
    "cost = Function('cost', [l,u],[-(u[0] - l[0])*(u[1] - l[1])])"
   ]
  },
  {
   "cell_type": "markdown",
   "metadata": {
    "graffitiCellId": "id_uoi9dw2"
   },
   "source": [
    "<span class=\"graffiti-highlight graffiti-id_uoi9dw2-id_s8cwun2\"><i></i><button>Hide Solution</button></span>"
   ]
  },
  {
   "cell_type": "code",
   "execution_count": 187,
   "metadata": {
    "graffitiCellId": "id_s8cwun2"
   },
   "outputs": [],
   "source": [
    "# The cost function\n",
    "f = -((u[0]-l[0]) * (u[1]-l[1]))\n"
   ]
  },
  {
   "cell_type": "markdown",
   "metadata": {
    "graffitiCellId": "id_ep0reqb"
   },
   "source": [
    "5. Create the solver object."
   ]
  },
  {
   "cell_type": "code",
   "execution_count": 188,
   "metadata": {
    "graffitiCellId": "id_upejljt"
   },
   "outputs": [
    {
     "data": {
      "text/plain": [
       "SX([l_0, l_1, u_0, u_1])"
      ]
     },
     "execution_count": 188,
     "metadata": {},
     "output_type": "execute_result"
    }
   ],
   "source": [
    "# Write your code here!\n",
    "\n",
    "nlprob = {'x':vertcat(l,u), 'f':f, 'g':g}\n",
    "solver = nlpsol('solver','ipopt', nlprob)\n"
   ]
  },
  {
   "cell_type": "markdown",
   "metadata": {
    "graffitiCellId": "id_xhjr26v"
   },
   "source": [
    "<span class=\"graffiti-highlight graffiti-id_xhjr26v-id_0vucuol\"><i></i><button>Hide Solution</button></span>"
   ]
  },
  {
   "cell_type": "code",
   "execution_count": null,
   "metadata": {
    "graffitiCellId": "id_0vucuol"
   },
   "outputs": [],
   "source": [
    "# Define the problem\n",
    "prob = {'x':vertcat(l,u), 'f':f, 'g':g}\n",
    "solver = nlpsol('solver','ipopt', prob)\n"
   ]
  },
  {
   "cell_type": "markdown",
   "metadata": {
    "graffitiCellId": "id_dzn53kx"
   },
   "source": [
    "6. Solve the optimization problem (name result `res`).\n",
    "7. The solver returns the solution as a single vector `x`. Extract the components `l` and `u` with indices.\n",
    "\n",
    "**Note**: Don't forget the initial guess and the upper bound for the constraints `g`."
   ]
  },
  {
   "cell_type": "code",
   "execution_count": 170,
   "metadata": {
    "graffitiCellId": "id_2lauk89"
   },
   "outputs": [
    {
     "name": "stdout",
     "output_type": "stream",
     "text": [
      "This is Ipopt version 3.12.3, running with linear solver mumps.\n",
      "NOTE: Other linear solvers might be more efficient (see Ipopt documentation).\n",
      "\n",
      "Number of nonzeros in equality constraint Jacobian...:        0\n",
      "Number of nonzeros in inequality constraint Jacobian.:       28\n",
      "Number of nonzeros in Lagrangian Hessian.............:        4\n",
      "\n",
      "Total number of variables............................:        4\n",
      "                     variables with only lower bounds:        0\n",
      "                variables with lower and upper bounds:        0\n",
      "                     variables with only upper bounds:        0\n",
      "Total number of equality constraints.................:        0\n",
      "Total number of inequality constraints...............:       16\n",
      "        inequality constraints with only lower bounds:        0\n",
      "   inequality constraints with lower and upper bounds:        0\n",
      "        inequality constraints with only upper bounds:       16\n",
      "\n",
      "iter    objective    inf_pr   inf_du lg(mu)  ||d||  lg(rg) alpha_du alpha_pr  ls\n",
      "   0 -0.0000000e+00 0.00e+00 5.13e-01  -1.0 0.00e+00    -  0.00e+00 0.00e+00   0\n",
      "   1 -1.2413220e-35 0.00e+00 5.26e-04  -1.7 1.05e-02    -  9.99e-01 1.00e+00f  1\n",
      "   2 -1.2413220e-35 0.00e+00 7.46e-05  -3.8 7.46e-05   0.0 1.00e+00 1.00e+00f  1\n",
      "   3  0.0000000e+00 0.00e+00 9.28e-07  -5.7 2.78e-06  -0.5 1.00e+00 1.00e+00h  1\n",
      "   4 -1.3823814e-34 0.00e+00 1.26e-09  -8.6 1.13e-08  -1.0 1.00e+00 1.00e+00h  1\n",
      "\n",
      "Number of Iterations....: 4\n",
      "\n",
      "                                   (scaled)                 (unscaled)\n",
      "Objective...............:  -1.3823813565670101e-34   -1.3823813565670101e-34\n",
      "Dual infeasibility......:   1.2605539943808337e-09    1.2605539943808337e-09\n",
      "Constraint violation....:   0.0000000000000000e+00    0.0000000000000000e+00\n",
      "Complementarity.........:   2.5059163106850646e-09    2.5059163106850646e-09\n",
      "Overall NLP error.......:   2.5059163106850646e-09    2.5059163106850646e-09\n",
      "\n",
      "\n",
      "Number of objective function evaluations             = 5\n",
      "Number of objective gradient evaluations             = 5\n",
      "Number of equality constraint evaluations            = 0\n",
      "Number of inequality constraint evaluations          = 5\n",
      "Number of equality constraint Jacobian evaluations   = 0\n",
      "Number of inequality constraint Jacobian evaluations = 5\n",
      "Number of Lagrangian Hessian evaluations             = 4\n",
      "Total CPU secs in IPOPT (w/o function evaluations)   =      0.002\n",
      "Total CPU secs in NLP function evaluations           =      0.000\n",
      "\n",
      "EXIT: Optimal Solution Found.\n",
      "      solver  :   t_proc      (avg)   t_wall      (avg)    n_eval\n",
      "       nlp_f  |  20.00us (  4.00us)  19.11us (  3.82us)         5\n",
      "       nlp_g  |  33.00us (  6.60us)  29.47us (  5.89us)         5\n",
      "  nlp_grad_f  |  30.00us (  5.00us)  33.95us (  5.66us)         6\n",
      "  nlp_hess_l  |  15.00us (  3.75us)  14.24us (  3.56us)         4\n",
      "   nlp_jac_g  |  22.00us (  3.67us)  21.24us (  3.54us)         6\n",
      "       total  |   6.12ms (  6.12ms)   5.65ms (  5.65ms)         1\n"
     ]
    }
   ],
   "source": [
    "# Write your code here!\n",
    "res = solver(x0=np.array([0,0,0,0]), ubg = 0)\n",
    "l = res['x'][:2]\n",
    "u = res['x'][2:]"
   ]
  },
  {
   "cell_type": "markdown",
   "metadata": {
    "graffitiCellId": "id_35otcem"
   },
   "source": [
    "<span class=\"graffiti-highlight graffiti-id_35otcem-id_w29hkd7\"><i></i><button>Hide Solution</button></span>"
   ]
  },
  {
   "cell_type": "code",
   "execution_count": 189,
   "metadata": {
    "graffitiCellId": "id_w29hkd7"
   },
   "outputs": [
    {
     "data": {
      "text/plain": [
       "DM([1.15224e-09, -0.0625, 0.375, 0.25])"
      ]
     },
     "execution_count": 189,
     "metadata": {},
     "output_type": "execute_result"
    }
   ],
   "source": [
    "#res = solver(ubg = 0, x0=np.array([-1,-1, 1, 1]))\n",
    "x=res['x']\n",
    "l = res['x'][:2]\n",
    "u = res['x'][2:]\n",
    "\n",
    "\n"
   ]
  },
  {
   "cell_type": "markdown",
   "metadata": {
    "graffitiCellId": "id_1mwh77g"
   },
   "source": [
    "Let's see how the solution fits in the polyhedron:"
   ]
  },
  {
   "cell_type": "code",
   "execution_count": 190,
   "metadata": {
    "graffitiCellId": "id_g61l0b0"
   },
   "outputs": [
    {
     "data": {
      "image/png": "[encoded data removed]",
      "text/plain": [
       "<Figure size 432x288 with 1 Axes>"
      ]
     },
     "execution_count": 190,
     "metadata": {},
     "output_type": "execute_result"
    }
   ],
   "source": [
    "# Plot maximized rectangle\n",
    "ax.plot([l[0],l[0]],[l[1],u[1]],'-r',linewidth=2)\n",
    "ax.plot([l[0],u[0]],[u[1],u[1]],'-r',linewidth=2)\n",
    "ax.plot([u[0],u[0]],[u[1],l[1]],'-r',linewidth=2)\n",
    "ax.plot([u[0],l[0]],[l[1],l[1]],'-r',linewidth=2)\n",
    "fig"
   ]
  },
  {
   "cell_type": "markdown",
   "metadata": {
    "graffitiCellId": "id_m53680p"
   },
   "source": [
    "Congratulations! You have finished the second exercise."
   ]
  }
 ],
 "metadata": {
  "colab": {
   "collapsed_sections": [],
   "name": "MPC_SS19_CasADi_exercise.ipynb",
   "provenance": [],
   "toc_visible": true,
   "version": "0.3.2"
  },
  "graffiti": {
   "firstAuthorId": "dev",
   "id": "id_jbs4aly",
   "language": "EN"
  },
  "kernelspec": {
   "display_name": "Python 3",
   "language": "python",
   "name": "python3"
  },
  "language_info": {
   "codemirror_mode": {
    "name": "ipython",
    "version": 3
   },
   "file_extension": ".py",
   "mimetype": "text/x-python",
   "name": "python",
   "nbconvert_exporter": "python",
   "pygments_lexer": "ipython3",
   "version": "3.6.10"
  }
 },
 "nbformat": 4,
 "nbformat_minor": 1
}
